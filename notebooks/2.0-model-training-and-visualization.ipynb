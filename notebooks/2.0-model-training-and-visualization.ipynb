{
 "cells": [
  {
   "cell_type": "markdown",
   "metadata": {
    "id": "yP7XbDOdh5ZD"
   },
   "source": [
    "Notebook author: Makar Shevchenko B20-DS-01"
   ]
  },
  {
   "cell_type": "markdown",
   "metadata": {
    "id": "cvdQiBQpitLn"
   },
   "source": [
    "# Model Training and Visualization. Movie Recommender System. Assignment 2. Practical Machine Learning and Deep Learning"
   ]
  },
  {
   "cell_type": "markdown",
   "metadata": {
    "id": "d7CMJtc_wqQs"
   },
   "source": [
    "## Solution\n",
    "\n",
    "Apply matrix factorization algrotihm implementation from LightFM [1]"
   ]
  },
  {
   "cell_type": "markdown",
   "metadata": {
    "id": "XN4hcCZESWjK"
   },
   "source": [
    "### Imports"
   ]
  },
  {
   "cell_type": "code",
   "execution_count": 1,
   "metadata": {
    "colab": {
     "base_uri": "https://localhost:8080/"
    },
    "id": "B0tmZ44oe2dK",
    "outputId": "2b1994bf-8d5a-4c46-8ced-ca679b4d46df"
   },
   "outputs": [
    {
     "name": "stdout",
     "output_type": "stream",
     "text": [
      "Defaulting to user installation because normal site-packages is not writeable\n",
      "Requirement already satisfied: lightfm in /Users/19134925/.local/lib/python3.8/site-packages (1.17)\n",
      "Requirement already satisfied: numpy in /Users/19134925/.local/lib/python3.8/site-packages (from lightfm) (1.23.5)\n",
      "Requirement already satisfied: scikit-learn in /opt/anaconda3/lib/python3.8/site-packages (from lightfm) (0.23.2)\n",
      "Requirement already satisfied: scipy>=0.17.0 in /opt/anaconda3/lib/python3.8/site-packages (from lightfm) (1.5.2)\n",
      "Requirement already satisfied: requests in /Users/19134925/.local/lib/python3.8/site-packages (from lightfm) (2.31.0)\n",
      "Requirement already satisfied: idna<4,>=2.5 in /opt/anaconda3/lib/python3.8/site-packages (from requests->lightfm) (2.10)\n",
      "Requirement already satisfied: charset-normalizer<4,>=2 in /Users/19134925/.local/lib/python3.8/site-packages (from requests->lightfm) (3.1.0)\n",
      "Requirement already satisfied: certifi>=2017.4.17 in /Users/19134925/.local/lib/python3.8/site-packages (from requests->lightfm) (2022.12.7)\n",
      "Requirement already satisfied: urllib3<3,>=1.21.1 in /Users/19134925/.local/lib/python3.8/site-packages (from requests->lightfm) (1.26.15)\n",
      "Requirement already satisfied: threadpoolctl>=2.0.0 in /opt/anaconda3/lib/python3.8/site-packages (from scikit-learn->lightfm) (2.1.0)\n",
      "Requirement already satisfied: joblib>=0.11 in /opt/anaconda3/lib/python3.8/site-packages (from scikit-learn->lightfm) (0.17.0)\n",
      "\n",
      "\u001b[1m[\u001b[0m\u001b[34;49mnotice\u001b[0m\u001b[1;39;49m]\u001b[0m\u001b[39;49m A new release of pip is available: \u001b[0m\u001b[31;49m23.0.1\u001b[0m\u001b[39;49m -> \u001b[0m\u001b[32;49m23.3.1\u001b[0m\n",
      "\u001b[1m[\u001b[0m\u001b[34;49mnotice\u001b[0m\u001b[1;39;49m]\u001b[0m\u001b[39;49m To update, run: \u001b[0m\u001b[32;49m/opt/anaconda3/bin/python -m pip install --upgrade pip\u001b[0m\n"
     ]
    },
    {
     "name": "stderr",
     "output_type": "stream",
     "text": [
      "/Users/19134925/.local/lib/python3.8/site-packages/lightfm/_lightfm_fast.py:9: UserWarning: LightFM was compiled without OpenMP support. Only a single thread will be used.\n",
      "  warnings.warn(\n"
     ]
    }
   ],
   "source": [
    "import sys\n",
    "\n",
    "!{sys.executable} -m pip install lightfm\n",
    "\n",
    "import pickle\n",
    "import numpy as np\n",
    "import pandas as pd\n",
    "from lightfm import LightFM\n",
    "from lightfm.data import Dataset\n",
    "from matplotlib import pyplot as plt\n",
    "from lightfm.evaluation import auc_score\n",
    "from lightfm.evaluation import recall_at_k\n",
    "from lightfm.evaluation import precision_at_k\n",
    "from lightfm.evaluation import reciprocal_rank\n",
    "from lightfm.cross_validation import random_train_test_split"
   ]
  },
  {
   "cell_type": "markdown",
   "metadata": {
    "id": "QRCWNFDnSZib"
   },
   "source": [
    "### Config"
   ]
  },
  {
   "cell_type": "code",
   "execution_count": 2,
   "metadata": {
    "id": "k3p1sCRLSaqi"
   },
   "outputs": [],
   "source": [
    "POSITIVE_RATING_THRESHOLD = 5\n",
    "LOSS = \"warp\"  # as only positive interactions are present\n",
    "NO_COMPONENTS = 40\n",
    "EPOCHS = 10\n",
    "RANDOM_STATE = 42\n",
    "TEST_PERCENTAGE = 0.2\n",
    "USER_ID = \"user_id\"\n",
    "MOV_ID = \"movie_id\"\n",
    "RATING = \"rating\"\n",
    "MOV_ID = \"movie_id\"\n",
    "MOV_TITLE = \"movie_title\"\n",
    "REL_DATE = \"release_date\"\n",
    "VID_REL_DATE = \"video_release_date\"\n",
    "IMDB_URL = \"IMDb_URL\"\n",
    "GEN_UNK = \"unknown\"\n",
    "GEN_ACT = \"Action\"\n",
    "GEN_ADV = \"Adventure\"\n",
    "GEN_ANIM = \"Animation\"\n",
    "GEN_CHLD = \"Children's\"\n",
    "GEN_CMDY = \"Comedy\"\n",
    "GEN_CRM = \"Crime\"\n",
    "GEN_DOC = \"Documentary\"\n",
    "GEN_DRM = \"Drama\"\n",
    "GEN_FNTS = \"Fantasy\"\n",
    "GEN_NOIR = \"Film-Noir\"\n",
    "GEN_HRR = \"Horror\"\n",
    "GEN_MUS = \"Musical\"\n",
    "GEN_MSTR = \"Mystery\"\n",
    "GEN_RMNS = \"Romance\"\n",
    "GEN_SCIFI = \"Sci-Fi\"\n",
    "GEN_TRIL = \"Thriller\"\n",
    "GEN_WAR = \"War\"\n",
    "GEN_WST = \"Western\"\n",
    "U_ITEM_COL_NMS = [MOV_ID, MOV_TITLE, REL_DATE, VID_REL_DATE, IMDB_URL, GEN_UNK,\n",
    "                  GEN_ACT, GEN_ADV, GEN_ANIM, GEN_CHLD, GEN_CMDY, GEN_CRM,\n",
    "                  GEN_DOC, GEN_DRM, GEN_FNTS, GEN_NOIR, GEN_HRR, GEN_MUS,\n",
    "                  GEN_MSTR, GEN_RMNS, GEN_SCIFI, GEN_TRIL, GEN_WAR, GEN_WST]\n",
    "FILES_ENC = \"latin-1\"\n",
    "UNZIPPED_DIR_PATH = \"../data/raw/ml-100k\"\n",
    "U_ITEM_PATH = UNZIPPED_DIR_PATH + \"/u.item\"\n",
    "U_GENRE_PATH = UNZIPPED_DIR_PATH + \"/u.genre\"\n",
    "MODEL_PATH = \"../models/model_ckpt.pkl\"\n",
    "BENCHMARK_DATA_PATH = \"../benchmark/data/eval_data.pkl\"\n",
    "PREPR_DATA_PATH = \"../data/interim\"\n",
    "PREPR_U_DATA_PATH = PREPR_DATA_PATH + \"/u_data.csv\"\n",
    "PREPR_U_ITEM_PATH = PREPR_DATA_PATH + \"/u_item.csv\"\n",
    "PREPR_U_USER_PATH = PREPR_DATA_PATH + \"/u_user.csv\"\n",
    "VIS_PATH = \"../reports/figures\"\n",
    "EVAL_VIS_PATH = VIS_PATH + \"/eval_vis.png\""
   ]
  },
  {
   "cell_type": "markdown",
   "metadata": {
    "id": "fLZ5zbzI4bSZ"
   },
   "source": [
    "### Training"
   ]
  },
  {
   "cell_type": "markdown",
   "metadata": {
    "id": "VXKZIxl2W3Dv"
   },
   "source": [
    "#### Load Data"
   ]
  },
  {
   "cell_type": "code",
   "execution_count": 3,
   "metadata": {
    "id": "4Lp49z-0W6Of"
   },
   "outputs": [],
   "source": [
    "u_data = pd.read_csv(PREPR_U_DATA_PATH, index_col=0)\n",
    "u_item = pd.read_csv(PREPR_U_ITEM_PATH, index_col=0)\n",
    "u_user = pd.read_csv(PREPR_U_USER_PATH, index_col=0)\n",
    "gen2idx = dict()\n",
    "u_genre = pd.read_csv(U_GENRE_PATH, sep=\"|\", encoding=FILES_ENC, header=None)\n",
    "for i, col in u_genre.iterrows():\n",
    "    gen2idx[col[0]] = col[1]"
   ]
  },
  {
   "cell_type": "markdown",
   "metadata": {
    "id": "CRgIuDvvWxEv"
   },
   "source": [
    "#### Training\n",
    "\n",
    "Train LightFM to obtain user and items embeddings and embeddings of their features. With that I will be able to estimate the rating that user will give to a movie. The more estimated rating, the better movie as recommendation. Assume that interaction, i.e. connection between user and movie, is present, when user gave 5 rating score to the movie."
   ]
  },
  {
   "cell_type": "code",
   "execution_count": 4,
   "metadata": {
    "colab": {
     "base_uri": "https://localhost:8080/"
    },
    "id": "_F7SoTtNCNi2",
    "outputId": "fcd8de5a-0928-40b9-90e3-7faffb46fd48"
   },
   "outputs": [
    {
     "data": {
      "text/plain": [
       "<lightfm.lightfm.LightFM at 0x7fc29d625a30>"
      ]
     },
     "execution_count": 4,
     "metadata": {},
     "output_type": "execute_result"
    }
   ],
   "source": [
    "dataset = Dataset(user_identity_features=True, item_identity_features=True)\n",
    "dataset.fit(u_user[USER_ID], u_item[MOV_ID], user_features=u_user.columns[1:],\n",
    "            item_features=gen2idx.keys())\n",
    "item_features = zip(u_item[MOV_ID],\n",
    "                    u_item[gen2idx.keys()].to_dict(orient=\"records\"))\n",
    "item_features = dataset.build_item_features(item_features)\n",
    "user_features = zip(u_user[USER_ID],\n",
    "                    u_user[u_user.columns[1:]].to_dict(orient=\"records\"))\n",
    "user_features = dataset.build_user_features(user_features)\n",
    "positive_interactions = u_data.loc[u_data[RATING] >= POSITIVE_RATING_THRESHOLD]\n",
    "interactions, weights = dataset.build_interactions(\n",
    "    positive_interactions.itertuples(index=False, name=None)\n",
    ")\n",
    "train_interactions, test_interactions = random_train_test_split(\n",
    "    interactions, test_percentage=TEST_PERCENTAGE, random_state=RANDOM_STATE\n",
    ")\n",
    "train_weights, test_weights = random_train_test_split(\n",
    "    weights, test_percentage=TEST_PERCENTAGE, random_state=RANDOM_STATE\n",
    ")\n",
    "model = LightFM(loss=LOSS, no_components=NO_COMPONENTS,\n",
    "                random_state=RANDOM_STATE)\n",
    "model.fit(train_interactions, epochs=EPOCHS, user_features=user_features,\n",
    "          item_features=item_features, sample_weight=train_weights)"
   ]
  },
  {
   "cell_type": "markdown",
   "metadata": {
    "id": "6EY1rgTUR4vW"
   },
   "source": [
    "#### Save Trained Model & Benchmark Data\n",
    "\n",
    "Save the model, training and benchmark data. I use pickle as the library do not provide the alternative for saving"
   ]
  },
  {
   "cell_type": "code",
   "execution_count": 5,
   "metadata": {
    "id": "E8-8RtnASGCV"
   },
   "outputs": [],
   "source": [
    "with open(MODEL_PATH, \"wb\") as file:\n",
    "    model_ckpt = {\n",
    "        \"dataset\": dataset,\n",
    "        \"train_interactions\": train_interactions,\n",
    "        \"user_features\": user_features,\n",
    "        \"item_features\": item_features,\n",
    "        \"model\": model\n",
    "    }\n",
    "    pickle.dump(model_ckpt, file)\n",
    "with open(BENCHMARK_DATA_PATH, \"wb\") as file:\n",
    "    # data redundancy, however without dataset neither\n",
    "    # model, nor benchmark data can solely exist\n",
    "    bench_data = {\n",
    "        \"dataset\": dataset,\n",
    "        \"test_interactions\": test_interactions,\n",
    "        \"user_features\": user_features,\n",
    "        \"item_features\": item_features\n",
    "    }\n",
    "    pickle.dump(bench_data, file)"
   ]
  },
  {
   "cell_type": "markdown",
   "metadata": {
    "id": "lmfqAvyA4ZgW"
   },
   "source": [
    "### Evaluation"
   ]
  },
  {
   "cell_type": "markdown",
   "metadata": {
    "id": "sKVNlSMeWUlC"
   },
   "source": [
    "#### Metrics & Benchmark\n",
    "\n",
    "Assess the model with the following scores [1]:\n",
    "- ROC AUC metric for a model: the probability that a randomly chosen positive example has a higher score than a randomly chosen negative example;\n",
    "- Reciprocal rank metric: 1 / the rank of the highest ranked positive example;\n",
    "- Precision at k metric for a model: the fraction of known positives in the first k positions of the ranked list of results;\n",
    "- Recall at k metric for a model: the number of positive items in the first k positions of the ranked list of results divided by the number of positive items in the test period"
   ]
  },
  {
   "cell_type": "code",
   "execution_count": 6,
   "metadata": {
    "colab": {
     "base_uri": "https://localhost:8080/",
     "height": 491
    },
    "id": "zSbK9Fah5sYk",
    "outputId": "822ebe8f-3d7c-4ec9-ad04-45f8261b65ec"
   },
   "outputs": [
    {
     "name": "stdout",
     "output_type": "stream",
     "text": [
      "Train AUC score:\t0.9108256\n",
      "Test AUC score:\t0.8963713\n",
      "Train Reciprocal rank:\t0.44093907\n",
      "Test Reciprocal rank:\t0.16008842\n"
     ]
    },
    {
     "data": {
      "image/png": "[encoded data removed]",
      "text/plain": [
       "<Figure size 576x288 with 2 Axes>"
      ]
     },
     "metadata": {
      "needs_background": "light"
     },
     "output_type": "display_data"
    }
   ],
   "source": [
    "print(\"Train AUC score:\",\n",
    "      auc_score(model, train_interactions, user_features=user_features,\n",
    "           item_features=item_features).mean(),\n",
    "      sep=\"\\t\"\n",
    ")\n",
    "print(\"Test AUC score:\",\n",
    "      auc_score(model, test_interactions, user_features=user_features,\n",
    "           item_features=item_features).mean(),\n",
    "      sep=\"\\t\"\n",
    ")\n",
    "print(\"Train Reciprocal rank:\",\n",
    "      reciprocal_rank(model, train_interactions, user_features=user_features,\n",
    "                      item_features=item_features).mean(),\n",
    "      sep=\"\\t\")\n",
    "print(\"Test Reciprocal rank:\",\n",
    "      reciprocal_rank(model, test_interactions, user_features=user_features,\n",
    "                      item_features=item_features).mean(),\n",
    "      sep=\"\\t\")\n",
    "ks = list(range(1, 11))\n",
    "test_prec_y = []\n",
    "train_prec_y = []\n",
    "test_rec_y = []\n",
    "train_rec_y = []\n",
    "for k in ks:\n",
    "    train_prec_y.append(\n",
    "        precision_at_k(model, train_interactions, k=k,\n",
    "                       user_features=user_features,\n",
    "                       item_features=item_features).mean()\n",
    "    )\n",
    "    test_prec_y.append(\n",
    "        precision_at_k(model, test_interactions, k=k,\n",
    "                       user_features=user_features,\n",
    "                       item_features=item_features).mean()\n",
    "    )\n",
    "    train_rec_y.append(\n",
    "        recall_at_k(model, train_interactions, k=k,\n",
    "                    user_features=user_features,\n",
    "                    item_features=item_features).mean()\n",
    "    )\n",
    "    test_rec_y.append(\n",
    "        recall_at_k(model, test_interactions, k=k,\n",
    "                    user_features=user_features,\n",
    "                    item_features=item_features).mean()\n",
    "    )\n",
    "fig, axes = plt.subplots(nrows=1, ncols=2, figsize=(8, 4))\n",
    "axes[0].plot(ks, train_prec_y, marker=\"o\", color=\"g\", label=\"Train\")\n",
    "axes[0].plot(ks, test_prec_y, marker=\"o\", label=\"Test\")\n",
    "axes[0].title.set_text(\"Precision at K of the LightFM\")\n",
    "axes[0].set_ylabel(\"Precision\")\n",
    "axes[0].set_xlabel(\"K\")\n",
    "axes[1].plot(ks, train_rec_y, marker=\"o\", color=\"g\", label=\"Train\")\n",
    "axes[1].plot(ks, test_rec_y, marker=\"o\", label=\"Test\")\n",
    "axes[1].title.set_text(\"Recall at K of the LightFM\")\n",
    "axes[1].set_ylabel(\"Recall\")\n",
    "axes[1].set_xlabel(\"K\")\n",
    "fig.savefig(EVAL_VIS_PATH)"
   ]
  },
  {
   "cell_type": "markdown",
   "metadata": {
    "id": "qGLQS78oPSMo"
   },
   "source": [
    "On the test set the model shown the following metrices:\n",
    "- ROC AUC score = 0.89 is close to 1. This means that the model is good in distinguishing positive and negative classes;\n",
    "- Reciprocal rank is 0.16. This means that the model usually guess the recommendation right only on the 6th position;\n",
    "- Precision is about 0.06 that is ok with only 0.01 of true samples for a user. This means that model give right answer only in 1 out of 20 recommendations;\n",
    "- Recal raises linearly from 0.02 to 0.1 with K raising from 1 to 10"
   ]
  },
  {
   "cell_type": "markdown",
   "metadata": {
    "id": "sM2ZlsU66pPN"
   },
   "source": [
    "#### Sample Predictions\n",
    "\n",
    "Here I use the trained model to recommend ten movies for each of three users. I convert user_id to internal model index and pass it to the model. The model ouputs estimated scores to moves. Then I sort the scores in descending order to select top-ten with highest scores - they match most estimated tastes of the user"
   ]
  },
  {
   "cell_type": "code",
   "execution_count": 7,
   "metadata": {
    "colab": {
     "base_uri": "https://localhost:8080/"
    },
    "id": "K5BfCCYu9gS1",
    "outputId": "08b0fd96-bbff-4ff8-b463-f8863288cbc7"
   },
   "outputs": [
    {
     "name": "stdout",
     "output_type": "stream",
     "text": [
      "User 4\n",
      "\tKnown positives:\n",
      "\t\tStar Wars (1977)\n",
      "\t\tContact (1997)\n",
      "\t\tLiar Liar (1997)\n",
      "\t\tAir Force One (1997)\n",
      "\t\tIn & Out (1997)\n",
      "\t\tUlee's Gold (1997)\n",
      "\t\tLost Highway (1997)\n",
      "\t\tCop Land (1997)\n",
      "\t\tDesperate Measures (1998)\n",
      "\t\tWedding Singer, The (1998)\n",
      "\tRecommended:\n",
      "\t\tStar Wars (1977)\n",
      "\t\tRaiders of the Lost Ark (1981)\n",
      "\t\tUsual Suspects, The (1995)\n",
      "\t\tGodfather, The (1972)\n",
      "\t\tReturn of the Jedi (1983)\n",
      "\t\tTerminator 2: Judgment Day (1991)\n",
      "\t\tFargo (1996)\n",
      "\t\tPulp Fiction (1994)\n",
      "\t\tEmpire Strikes Back, The (1980)\n",
      "\t\tContact (1997)\n",
      "User 26\n",
      "\tKnown positives:\n",
      "\t\tFargo (1996)\n",
      "\t\tGodfather, The (1972)\n",
      "\t\tL.A. Confidential (1997)\n",
      "\tRecommended:\n",
      "\t\tStar Wars (1977)\n",
      "\t\tFargo (1996)\n",
      "\t\tGodfather, The (1972)\n",
      "\t\tSchindler's List (1993)\n",
      "\t\tRaiders of the Lost Ark (1981)\n",
      "\t\tPulp Fiction (1994)\n",
      "\t\tUsual Suspects, The (1995)\n",
      "\t\tSilence of the Lambs, The (1991)\n",
      "\t\tContact (1997)\n",
      "\t\tShawshank Redemption, The (1994)\n",
      "User 30\n",
      "\tKnown positives:\n",
      "\t\tForrest Gump (1994)\n",
      "\t\tRaiders of the Lost Ark (1981)\n",
      "\t\tKolya (1996)\n",
      "\t\tContact (1997)\n",
      "\t\tEnglish Patient, The (1996)\n",
      "\t\tTitanic (1997)\n",
      "\t\tButch Cassidy and the Sundance Kid (1969)\n",
      "\t\tShine (1996)\n",
      "\t\tWaiting for Guffman (1996)\n",
      "\tRecommended:\n",
      "\t\tStar Wars (1977)\n",
      "\t\tRaiders of the Lost Ark (1981)\n",
      "\t\tUsual Suspects, The (1995)\n",
      "\t\tGodfather, The (1972)\n",
      "\t\tPulp Fiction (1994)\n",
      "\t\tFargo (1996)\n",
      "\t\tSilence of the Lambs, The (1991)\n",
      "\t\tReturn of the Jedi (1983)\n",
      "\t\tShawshank Redemption, The (1994)\n",
      "\t\tContact (1997)\n"
     ]
    }
   ],
   "source": [
    "user_ids = [4, 26, 30]\n",
    "temp_u_item = pd.read_csv(U_ITEM_PATH, sep=\"|\", encoding=FILES_ENC, header=None,\n",
    "                          names=U_ITEM_COL_NMS)\n",
    "user_id2idx, _, item_id2idx, _ = dataset.mapping()\n",
    "idx2user_id = {v: k for k, v in user_id2idx.items()}\n",
    "idx2item_id = {v: k for k, v in item_id2idx.items()}\n",
    "for user_id in user_ids:\n",
    "    user_idx = user_id2idx[user_id]\n",
    "    known_positives_idxs = train_interactions.tocsr()[user_idx].indices\n",
    "    known_positives_ids = [idx2item_id[i] for i in known_positives_idxs]\n",
    "    print(\"User %s\" % user_id)\n",
    "    print(\"\\tKnown positives:\")\n",
    "    for i in known_positives_ids[:10]:\n",
    "        print(f\"\\t\\t{temp_u_item[MOV_TITLE].loc[i-1]}\")\n",
    "    scores = model.predict(user_idx, np.arange(len(temp_u_item)),\n",
    "                           user_features=user_features,\n",
    "                           item_features=item_features)\n",
    "    recommended_idxs = np.argsort(-scores)\n",
    "    recommended_ids = [idx2item_id[i] for i in recommended_idxs]\n",
    "    print(\"\\tRecommended:\")\n",
    "    for i in recommended_ids[:10]:\n",
    "        print(f\"\\t\\t{temp_u_item[MOV_TITLE].loc[i-1]}\")"
   ]
  },
  {
   "cell_type": "markdown",
   "metadata": {
    "id": "A_jg76LvIQ8M"
   },
   "source": [
    "Some of the recommended movies match known positives: Star Wars and Contact for User 4, Fargo and Godfather, The for User 26, and Raiders of the Lost Ark and Contact for Use 30. This means that model trained embeddings correctly: the estimated scores match interactions from train data."
   ]
  },
  {
   "cell_type": "markdown",
   "metadata": {
    "id": "3fhOYXpH6mjD"
   },
   "source": [
    "### References\n",
    "\n",
    "[1] https://making.lyst.com/lightfm/docs/home.html"
   ]
  }
 ],
 "metadata": {
  "colab": {
   "provenance": [],
   "toc_visible": true
  },
  "kernelspec": {
   "display_name": "Python 3",
   "language": "python",
   "name": "python3"
  },
  "language_info": {
   "codemirror_mode": {
    "name": "ipython",
    "version": 3
   },
   "file_extension": ".py",
   "mimetype": "text/x-python",
   "name": "python",
   "nbconvert_exporter": "python",
   "pygments_lexer": "ipython3",
   "version": "3.8.5"
  }
 },
 "nbformat": 4,
 "nbformat_minor": 1
}
