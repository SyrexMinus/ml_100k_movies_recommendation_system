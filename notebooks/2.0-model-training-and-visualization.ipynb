{
  "nbformat": 4,
  "nbformat_minor": 0,
  "metadata": {
    "colab": {
      "provenance": [],
      "toc_visible": true
    },
    "kernelspec": {
      "name": "python3",
      "display_name": "Python 3"
    },
    "language_info": {
      "name": "python"
    }
  },
  "cells": [
    {
      "cell_type": "markdown",
      "source": [
        "Notebook author: Makar Shevchenko B20-DS-01"
      ],
      "metadata": {
        "id": "yP7XbDOdh5ZD"
      }
    },
    {
      "cell_type": "markdown",
      "source": [
        "# Model Training and Visualization. Movie Recommender System. Assignment 2. Practical Machine Learning and Deep Learning"
      ],
      "metadata": {
        "id": "cvdQiBQpitLn"
      }
    },
    {
      "cell_type": "markdown",
      "source": [
        "## Solution"
      ],
      "metadata": {
        "id": "d7CMJtc_wqQs"
      }
    },
    {
      "cell_type": "markdown",
      "source": [
        "### Imports"
      ],
      "metadata": {
        "id": "iiN06cKbi1Pq"
      }
    },
    {
      "cell_type": "code",
      "source": [],
      "metadata": {
        "id": "l5_IA3Rdi2fz"
      },
      "execution_count": null,
      "outputs": []
    },
    {
      "cell_type": "markdown",
      "source": [
        "### Config"
      ],
      "metadata": {
        "id": "4EuGV_rmi24s"
      }
    },
    {
      "cell_type": "code",
      "execution_count": null,
      "metadata": {
        "id": "-N66hXGHhvH-"
      },
      "outputs": [],
      "source": []
    },
    {
      "cell_type": "markdown",
      "source": [
        "### Modelling"
      ],
      "metadata": {
        "id": "KnahC0GXlkm4"
      }
    },
    {
      "cell_type": "markdown",
      "source": [
        "#### Model Selection"
      ],
      "metadata": {
        "id": "XcKraCg6l0FB"
      }
    },
    {
      "cell_type": "code",
      "source": [],
      "metadata": {
        "id": "F8ZoxnO9lsD2"
      },
      "execution_count": null,
      "outputs": []
    },
    {
      "cell_type": "markdown",
      "source": [
        "#### Test Design"
      ],
      "metadata": {
        "id": "3vN-oPo2l3HB"
      }
    },
    {
      "cell_type": "code",
      "source": [],
      "metadata": {
        "id": "21Yd4v9jl963"
      },
      "execution_count": null,
      "outputs": []
    },
    {
      "cell_type": "markdown",
      "source": [
        "#### Model Building"
      ],
      "metadata": {
        "id": "WQhlLsBSl-Vt"
      }
    },
    {
      "cell_type": "code",
      "source": [],
      "metadata": {
        "id": "W6VSXvDwmA6k"
      },
      "execution_count": null,
      "outputs": []
    },
    {
      "cell_type": "markdown",
      "source": [
        "### Evaluation"
      ],
      "metadata": {
        "id": "fzewTMnWlqfY"
      }
    },
    {
      "cell_type": "code",
      "source": [],
      "metadata": {
        "id": "DQNKVvLDlsbr"
      },
      "execution_count": null,
      "outputs": []
    }
  ]
}