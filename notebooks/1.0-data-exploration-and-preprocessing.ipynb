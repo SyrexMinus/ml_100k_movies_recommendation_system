{
 "cells": [
  {
   "cell_type": "markdown",
   "metadata": {
    "id": "yP7XbDOdh5ZD"
   },
   "source": [
    "Notebook author: Makar Shevchenko B20-DS-01"
   ]
  },
  {
   "cell_type": "markdown",
   "metadata": {
    "id": "cvdQiBQpitLn"
   },
   "source": [
    "# Data Exploration and Preprocessing. Movie Recommender System. Assignment 2. Practical Machine Learning and Deep Learning\n",
    "\n",
    "In this notebook I perform explorative data analysis of MovieLens 100k dataset [1] and preprocess the data for passing to movie recommendation model"
   ]
  },
  {
   "cell_type": "markdown",
   "metadata": {
    "id": "y7DBe-_mirGA"
   },
   "source": [
    "## Solution"
   ]
  },
  {
   "cell_type": "markdown",
   "metadata": {
    "id": "iiN06cKbi1Pq"
   },
   "source": [
    "### Imports"
   ]
  },
  {
   "cell_type": "code",
   "execution_count": 1,
   "metadata": {
    "colab": {
     "base_uri": "https://localhost:8080/"
    },
    "id": "l5_IA3Rdi2fz",
    "outputId": "9e1c938b-0d93-4115-b5fb-539086c18785"
   },
   "outputs": [
    {
     "name": "stdout",
     "output_type": "stream",
     "text": [
      "Defaulting to user installation because normal site-packages is not writeable\n",
      "Requirement already satisfied: wget in /Users/19134925/.local/lib/python3.8/site-packages (3.2)\n",
      "\n",
      "\u001b[1m[\u001b[0m\u001b[34;49mnotice\u001b[0m\u001b[1;39;49m]\u001b[0m\u001b[39;49m A new release of pip is available: \u001b[0m\u001b[31;49m23.0.1\u001b[0m\u001b[39;49m -> \u001b[0m\u001b[32;49m23.3.1\u001b[0m\n",
      "\u001b[1m[\u001b[0m\u001b[34;49mnotice\u001b[0m\u001b[1;39;49m]\u001b[0m\u001b[39;49m To update, run: \u001b[0m\u001b[32;49m/opt/anaconda3/bin/python -m pip install --upgrade pip\u001b[0m\n",
      "Defaulting to user installation because normal site-packages is not writeable\n",
      "Requirement already satisfied: uszipcode in /Users/19134925/.local/lib/python3.8/site-packages (1.0.1)\n",
      "Requirement already satisfied: pathlib-mate in /Users/19134925/.local/lib/python3.8/site-packages (from uszipcode) (1.2.1)\n",
      "Requirement already satisfied: haversine>=2.5.0 in /Users/19134925/.local/lib/python3.8/site-packages (from uszipcode) (2.8.0)\n",
      "Requirement already satisfied: sqlalchemy-mate>=1.4.28.3 in /Users/19134925/.local/lib/python3.8/site-packages (from uszipcode) (1.4.28.4)\n",
      "Requirement already satisfied: attrs in /Users/19134925/.local/lib/python3.8/site-packages (from uszipcode) (23.1.0)\n",
      "Requirement already satisfied: SQLAlchemy>=1.4.0 in /Users/19134925/.local/lib/python3.8/site-packages (from uszipcode) (1.4.46)\n",
      "Requirement already satisfied: atomicwrites in /opt/anaconda3/lib/python3.8/site-packages (from uszipcode) (1.4.0)\n",
      "Requirement already satisfied: requests in /Users/19134925/.local/lib/python3.8/site-packages (from uszipcode) (2.31.0)\n",
      "Requirement already satisfied: fuzzywuzzy in /Users/19134925/.local/lib/python3.8/site-packages (from uszipcode) (0.18.0)\n",
      "Requirement already satisfied: greenlet!=0.4.17 in /Users/19134925/.local/lib/python3.8/site-packages (from SQLAlchemy>=1.4.0->uszipcode) (2.0.2)\n",
      "Requirement already satisfied: prettytable in /Users/19134925/.local/lib/python3.8/site-packages (from sqlalchemy-mate>=1.4.28.3->uszipcode) (3.9.0)\n",
      "Requirement already satisfied: six in /opt/anaconda3/lib/python3.8/site-packages (from pathlib-mate->uszipcode) (1.15.0)\n",
      "Requirement already satisfied: charset-normalizer<4,>=2 in /Users/19134925/.local/lib/python3.8/site-packages (from requests->uszipcode) (3.1.0)\n",
      "Requirement already satisfied: certifi>=2017.4.17 in /Users/19134925/.local/lib/python3.8/site-packages (from requests->uszipcode) (2022.12.7)\n",
      "Requirement already satisfied: urllib3<3,>=1.21.1 in /Users/19134925/.local/lib/python3.8/site-packages (from requests->uszipcode) (1.26.15)\n",
      "Requirement already satisfied: idna<4,>=2.5 in /opt/anaconda3/lib/python3.8/site-packages (from requests->uszipcode) (2.10)\n",
      "Requirement already satisfied: wcwidth in /opt/anaconda3/lib/python3.8/site-packages (from prettytable->sqlalchemy-mate>=1.4.28.3->uszipcode) (0.2.5)\n",
      "\n",
      "\u001b[1m[\u001b[0m\u001b[34;49mnotice\u001b[0m\u001b[1;39;49m]\u001b[0m\u001b[39;49m A new release of pip is available: \u001b[0m\u001b[31;49m23.0.1\u001b[0m\u001b[39;49m -> \u001b[0m\u001b[32;49m23.3.1\u001b[0m\n",
      "\u001b[1m[\u001b[0m\u001b[34;49mnotice\u001b[0m\u001b[1;39;49m]\u001b[0m\u001b[39;49m To update, run: \u001b[0m\u001b[32;49m/opt/anaconda3/bin/python -m pip install --upgrade pip\u001b[0m\n"
     ]
    },
    {
     "name": "stderr",
     "output_type": "stream",
     "text": [
      "/Users/19134925/.local/lib/python3.8/site-packages/fuzzywuzzy/fuzz.py:11: UserWarning: Using slow pure-python SequenceMatcher. Install python-Levenshtein to remove this warning\n",
      "  warnings.warn('Using slow pure-python SequenceMatcher. Install python-Levenshtein to remove this warning')\n"
     ]
    }
   ],
   "source": [
    "import sys\n",
    "\n",
    "!{sys.executable} -m pip install wget\n",
    "!{sys.executable} -m pip install uszipcode\n",
    "\n",
    "import os\n",
    "from zipfile import ZipFile\n",
    "\n",
    "import wget\n",
    "import pandas as pd\n",
    "import seaborn as sns\n",
    "from uszipcode import SearchEngine\n",
    "from matplotlib import pyplot as plt"
   ]
  },
  {
   "cell_type": "markdown",
   "metadata": {
    "id": "4EuGV_rmi24s"
   },
   "source": [
    "### Config"
   ]
  },
  {
   "cell_type": "code",
   "execution_count": 2,
   "metadata": {
    "id": "-N66hXGHhvH-"
   },
   "outputs": [],
   "source": [
    "DATA_URL = \"https://files.grouplens.org/datasets/movielens/ml-100k.zip\"\n",
    "ZIP_SAVE_PATH = \"../data/raw/ml-100k.zip\"\n",
    "SAVE_DIR_PATH = \"../data/raw\"\n",
    "UNZIPPED_DIR_PATH = \"../data/raw/ml-100k\"\n",
    "U_DATA_PATH = UNZIPPED_DIR_PATH + \"/u.data\"\n",
    "U_INFO_PATH = UNZIPPED_DIR_PATH + \"/u.info\"\n",
    "U_ITEM_PATH = UNZIPPED_DIR_PATH + \"/u.item\"\n",
    "U_GENRE_PATH = UNZIPPED_DIR_PATH + \"/u.genre\"\n",
    "U_USER_PATH = UNZIPPED_DIR_PATH + \"/u.user\"\n",
    "U_OCCUP_PATH = UNZIPPED_DIR_PATH + \"/u.occupation\"\n",
    "UX_BASE_PATH_F = UNZIPPED_DIR_PATH + \"/u{}.base\"\n",
    "UX_TEST_PATH_F = UNZIPPED_DIR_PATH + \"/u{}.test\"\n",
    "U_N_NUM = 5\n",
    "USER_ID = \"user_id\"\n",
    "ITEM_ID = \"item_id\"\n",
    "RATING = \"rating\"\n",
    "TS = \"timestamp\"\n",
    "U_DATA_COL_NMS = [USER_ID, ITEM_ID, RATING, TS]\n",
    "MOV_ID = \"movie_id\"\n",
    "MOV_TITLE = \"movie_title\"\n",
    "REL_DATE = \"release_date\"\n",
    "VID_REL_DATE = \"video_release_date\"\n",
    "IMDB_URL = \"IMDb_URL\"\n",
    "GEN_UNK = \"unknown\"\n",
    "GEN_ACT = \"Action\"\n",
    "GEN_ADV = \"Adventure\"\n",
    "GEN_ANIM = \"Animation\"\n",
    "GEN_CHLD = \"Children's\"\n",
    "GEN_CMDY = \"Comedy\"\n",
    "GEN_CRM = \"Crime\"\n",
    "GEN_DOC = \"Documentary\"\n",
    "GEN_DRM = \"Drama\"\n",
    "GEN_FNTS = \"Fantasy\"\n",
    "GEN_NOIR = \"Film-Noir\"\n",
    "GEN_HRR = \"Horror\"\n",
    "GEN_MUS = \"Musical\"\n",
    "GEN_MSTR = \"Mystery\"\n",
    "GEN_RMNS = \"Romance\"\n",
    "GEN_SCIFI = \"Sci-Fi\"\n",
    "GEN_TRIL = \"Thriller\"\n",
    "GEN_WAR = \"War\"\n",
    "GEN_WST = \"Western\"\n",
    "U_ITEM_COL_NMS = [MOV_ID, MOV_TITLE, REL_DATE, VID_REL_DATE, IMDB_URL, GEN_UNK,\n",
    "                  GEN_ACT, GEN_ADV, GEN_ANIM, GEN_CHLD, GEN_CMDY, GEN_CRM,\n",
    "                  GEN_DOC, GEN_DRM, GEN_FNTS, GEN_NOIR, GEN_HRR, GEN_MUS,\n",
    "                  GEN_MSTR, GEN_RMNS, GEN_SCIFI, GEN_TRIL, GEN_WAR, GEN_WST]\n",
    "AGE = \"age\"\n",
    "GENDER = \"gender\"\n",
    "OCCUPTN = \"occupation\"\n",
    "ZIP_CODE = \"zip_code\"\n",
    "U_USER_COL_NMS = [USER_ID, AGE, GENDER, OCCUPTN, ZIP_CODE]\n",
    "FILES_ENC = \"latin-1\"\n",
    "REL_YEAR = \"release_year\"\n",
    "STATE = \"state\"\n",
    "UNK_STATE = \"unknown\"\n",
    "AGE_CAT = \"age_cat\"\n",
    "BABY = \"baby\"\n",
    "YOUNG = \"young\"\n",
    "ADULT = \"adult\"\n",
    "OLD = \"old\"\n",
    "AGE_BINS = [-200, 14, 30, 50, 200]\n",
    "AGE_LABELS = [BABY, YOUNG, ADULT, OLD]\n",
    "PREPR_DATA_PATH = \"../data/interim\"\n",
    "PREPR_U_DATA_PATH = PREPR_DATA_PATH + \"/u_data.csv\"\n",
    "PREPR_U_ITEM_PATH = PREPR_DATA_PATH + \"/u_item.csv\"\n",
    "PREPR_U_USER_PATH = PREPR_DATA_PATH + \"/u_user.csv\"\n",
    "VIS_PATH = \"../reports/figures\"\n",
    "U_DATA_VIS_PATH = VIS_PATH + \"/u_data_vis.png\"\n",
    "U_ITEM_VIS_PATH = VIS_PATH + \"/u_item_vis.png\"\n",
    "GEN_YEAR_U_ITEM_VIS_PATH = VIS_PATH + \"/gen_year_u_item_vis.png\"\n",
    "U_USER_VIS_PATH = VIS_PATH + \"/u_user_vis.png\""
   ]
  },
  {
   "cell_type": "markdown",
   "metadata": {
    "id": "abs4wnpEk6Yi"
   },
   "source": [
    "### Data Understanding\n",
    "\n",
    "Here I perform explorative data analysis to find patters to exploit for better modelling"
   ]
  },
  {
   "cell_type": "markdown",
   "metadata": {
    "id": "6jMvk90NkvuT"
   },
   "source": [
    "#### Data Collection\n",
    "\n",
    "Download the dataset and read the files. Apply type convertions for time columns. Derive state column from zip code for users."
   ]
  },
  {
   "cell_type": "code",
   "execution_count": 3,
   "metadata": {
    "id": "XXBI5m1_kxNC"
   },
   "outputs": [],
   "source": [
    "if not os.path.isdir(UNZIPPED_DIR_PATH):\n",
    "    wget.download(DATA_URL, ZIP_SAVE_PATH)\n",
    "    with ZipFile(ZIP_SAVE_PATH, \"r\") as zip_file:\n",
    "        zip_file.extractall(SAVE_DIR_PATH)\n",
    "    os.remove(ZIP_SAVE_PATH)\n",
    "\n",
    "u_data = pd.read_csv(U_DATA_PATH, sep=\"\\t\", encoding=FILES_ENC, header=None,\n",
    "                     names=U_DATA_COL_NMS)\n",
    "\n",
    "name2num = dict()\n",
    "u_info = pd.read_csv(U_INFO_PATH, sep=\" \", encoding=FILES_ENC, header=None)\n",
    "for i, col in u_info.iterrows():\n",
    "    name2num[col[1]] = col[0]\n",
    "\n",
    "u_item = pd.read_csv(U_ITEM_PATH, sep=\"|\", encoding=FILES_ENC, header=None,\n",
    "                     names=U_ITEM_COL_NMS)\n",
    "u_item.release_date = pd.to_datetime(u_item.release_date)\n",
    "u_item[REL_YEAR] = u_item[REL_DATE].dt.year\n",
    "\n",
    "gen2idx = dict()\n",
    "u_genre = pd.read_csv(U_GENRE_PATH, sep=\"|\", encoding=FILES_ENC, header=None)\n",
    "for i, col in u_genre.iterrows():\n",
    "    gen2idx[col[0]] = col[1]\n",
    "\n",
    "u_user = pd.read_csv(U_USER_PATH, sep=\"|\", encoding=FILES_ENC, header=None,\n",
    "                     names=U_USER_COL_NMS)\n",
    "search = SearchEngine()\n",
    "def zip_to_state(zip):\n",
    "    z = search.by_zipcode(zip)\n",
    "    state = z.state_abbr if z else None\n",
    "    return state if state else UNK_STATE\n",
    "u_user[STATE] = u_user[ZIP_CODE].apply(zip_to_state)\n",
    "\n",
    "occups = set()\n",
    "u_occup = pd.read_csv(U_OCCUP_PATH, encoding=FILES_ENC, header=None)\n",
    "for i, col in u_occup.iterrows():\n",
    "    occups.add(col[0])\n",
    "\n",
    "u_n_bases = []\n",
    "for i in range(1, U_N_NUM+1):\n",
    "    u_n_bases.append(pd.read_csv(UX_BASE_PATH_F.format(i), sep=\"\\t\",\n",
    "                                 encoding=FILES_ENC, header=None,\n",
    "                                 names=U_DATA_COL_NMS))\n",
    "\n",
    "u_n_tests = []\n",
    "for i in range(1, U_N_NUM+1):\n",
    "    u_n_tests.append(pd.read_csv(UX_TEST_PATH_F.format(i), sep=\"\\t\",\n",
    "                                 encoding=FILES_ENC, header=None,\n",
    "                                 names=U_DATA_COL_NMS))"
   ]
  },
  {
   "cell_type": "markdown",
   "metadata": {
    "id": "O91AFELVSjpn"
   },
   "source": [
    "Skip training/test sets generating scripts mku.sh and allbut.pl as the sets are already present"
   ]
  },
  {
   "cell_type": "markdown",
   "metadata": {
    "id": "gSXzOrUVjThq"
   },
   "source": [
    "#### Data Description\n",
    "\n",
    "Here I display the info about columns and samples from the data"
   ]
  },
  {
   "cell_type": "code",
   "execution_count": 4,
   "metadata": {
    "colab": {
     "base_uri": "https://localhost:8080/",
     "height": 609
    },
    "id": "7lBifPwikO7p",
    "outputId": "8d8176fa-f95f-4bcc-a892-40fa9e0b9402"
   },
   "outputs": [
    {
     "name": "stdout",
     "output_type": "stream",
     "text": [
      "<class 'pandas.core.frame.DataFrame'>\n",
      "RangeIndex: 100000 entries, 0 to 99999\n",
      "Data columns (total 4 columns):\n",
      " #   Column     Non-Null Count   Dtype\n",
      "---  ------     --------------   -----\n",
      " 0   user_id    100000 non-null  int64\n",
      " 1   item_id    100000 non-null  int64\n",
      " 2   rating     100000 non-null  int64\n",
      " 3   timestamp  100000 non-null  int64\n",
      "dtypes: int64(4)\n",
      "memory usage: 3.1 MB\n",
      "None\n"
     ]
    },
    {
     "data": {
      "text/html": [
       "<div>\n",
       "<style scoped>\n",
       "    .dataframe tbody tr th:only-of-type {\n",
       "        vertical-align: middle;\n",
       "    }\n",
       "\n",
       "    .dataframe tbody tr th {\n",
       "        vertical-align: top;\n",
       "    }\n",
       "\n",
       "    .dataframe thead th {\n",
       "        text-align: right;\n",
       "    }\n",
       "</style>\n",
       "<table border=\"1\" class=\"dataframe\">\n",
       "  <thead>\n",
       "    <tr style=\"text-align: right;\">\n",
       "      <th></th>\n",
       "      <th>user_id</th>\n",
       "      <th>item_id</th>\n",
       "      <th>rating</th>\n",
       "      <th>timestamp</th>\n",
       "    </tr>\n",
       "  </thead>\n",
       "  <tbody>\n",
       "    <tr>\n",
       "      <th>0</th>\n",
       "      <td>196</td>\n",
       "      <td>242</td>\n",
       "      <td>3</td>\n",
       "      <td>881250949</td>\n",
       "    </tr>\n",
       "    <tr>\n",
       "      <th>1</th>\n",
       "      <td>186</td>\n",
       "      <td>302</td>\n",
       "      <td>3</td>\n",
       "      <td>891717742</td>\n",
       "    </tr>\n",
       "    <tr>\n",
       "      <th>2</th>\n",
       "      <td>22</td>\n",
       "      <td>377</td>\n",
       "      <td>1</td>\n",
       "      <td>878887116</td>\n",
       "    </tr>\n",
       "    <tr>\n",
       "      <th>3</th>\n",
       "      <td>244</td>\n",
       "      <td>51</td>\n",
       "      <td>2</td>\n",
       "      <td>880606923</td>\n",
       "    </tr>\n",
       "    <tr>\n",
       "      <th>4</th>\n",
       "      <td>166</td>\n",
       "      <td>346</td>\n",
       "      <td>1</td>\n",
       "      <td>886397596</td>\n",
       "    </tr>\n",
       "    <tr>\n",
       "      <th>...</th>\n",
       "      <td>...</td>\n",
       "      <td>...</td>\n",
       "      <td>...</td>\n",
       "      <td>...</td>\n",
       "    </tr>\n",
       "    <tr>\n",
       "      <th>99995</th>\n",
       "      <td>880</td>\n",
       "      <td>476</td>\n",
       "      <td>3</td>\n",
       "      <td>880175444</td>\n",
       "    </tr>\n",
       "    <tr>\n",
       "      <th>99996</th>\n",
       "      <td>716</td>\n",
       "      <td>204</td>\n",
       "      <td>5</td>\n",
       "      <td>879795543</td>\n",
       "    </tr>\n",
       "    <tr>\n",
       "      <th>99997</th>\n",
       "      <td>276</td>\n",
       "      <td>1090</td>\n",
       "      <td>1</td>\n",
       "      <td>874795795</td>\n",
       "    </tr>\n",
       "    <tr>\n",
       "      <th>99998</th>\n",
       "      <td>13</td>\n",
       "      <td>225</td>\n",
       "      <td>2</td>\n",
       "      <td>882399156</td>\n",
       "    </tr>\n",
       "    <tr>\n",
       "      <th>99999</th>\n",
       "      <td>12</td>\n",
       "      <td>203</td>\n",
       "      <td>3</td>\n",
       "      <td>879959583</td>\n",
       "    </tr>\n",
       "  </tbody>\n",
       "</table>\n",
       "<p>100000 rows × 4 columns</p>\n",
       "</div>"
      ],
      "text/plain": [
       "       user_id  item_id  rating  timestamp\n",
       "0          196      242       3  881250949\n",
       "1          186      302       3  891717742\n",
       "2           22      377       1  878887116\n",
       "3          244       51       2  880606923\n",
       "4          166      346       1  886397596\n",
       "...        ...      ...     ...        ...\n",
       "99995      880      476       3  880175444\n",
       "99996      716      204       5  879795543\n",
       "99997      276     1090       1  874795795\n",
       "99998       13      225       2  882399156\n",
       "99999       12      203       3  879959583\n",
       "\n",
       "[100000 rows x 4 columns]"
      ]
     },
     "execution_count": 4,
     "metadata": {},
     "output_type": "execute_result"
    }
   ],
   "source": [
    "print(u_data.info())\n",
    "u_data"
   ]
  },
  {
   "cell_type": "code",
   "execution_count": 5,
   "metadata": {
    "colab": {
     "base_uri": "https://localhost:8080/"
    },
    "id": "G6-apvMcLIgw",
    "outputId": "e47e3224-f760-4da4-da99-22275f555e0d"
   },
   "outputs": [
    {
     "data": {
      "text/plain": [
       "{'users': 943, 'items': 1682, 'ratings': 100000}"
      ]
     },
     "execution_count": 5,
     "metadata": {},
     "output_type": "execute_result"
    }
   ],
   "source": [
    "name2num"
   ]
  },
  {
   "cell_type": "code",
   "execution_count": 6,
   "metadata": {
    "colab": {
     "base_uri": "https://localhost:8080/",
     "height": 1000
    },
    "id": "-nclxtPgLOB2",
    "outputId": "5a4e359e-8181-4247-f6bd-9d55bb9162f3"
   },
   "outputs": [
    {
     "name": "stdout",
     "output_type": "stream",
     "text": [
      "<class 'pandas.core.frame.DataFrame'>\n",
      "RangeIndex: 1682 entries, 0 to 1681\n",
      "Data columns (total 25 columns):\n",
      " #   Column              Non-Null Count  Dtype         \n",
      "---  ------              --------------  -----         \n",
      " 0   movie_id            1682 non-null   int64         \n",
      " 1   movie_title         1682 non-null   object        \n",
      " 2   release_date        1681 non-null   datetime64[ns]\n",
      " 3   video_release_date  0 non-null      float64       \n",
      " 4   IMDb_URL            1679 non-null   object        \n",
      " 5   unknown             1682 non-null   int64         \n",
      " 6   Action              1682 non-null   int64         \n",
      " 7   Adventure           1682 non-null   int64         \n",
      " 8   Animation           1682 non-null   int64         \n",
      " 9   Children's          1682 non-null   int64         \n",
      " 10  Comedy              1682 non-null   int64         \n",
      " 11  Crime               1682 non-null   int64         \n",
      " 12  Documentary         1682 non-null   int64         \n",
      " 13  Drama               1682 non-null   int64         \n",
      " 14  Fantasy             1682 non-null   int64         \n",
      " 15  Film-Noir           1682 non-null   int64         \n",
      " 16  Horror              1682 non-null   int64         \n",
      " 17  Musical             1682 non-null   int64         \n",
      " 18  Mystery             1682 non-null   int64         \n",
      " 19  Romance             1682 non-null   int64         \n",
      " 20  Sci-Fi              1682 non-null   int64         \n",
      " 21  Thriller            1682 non-null   int64         \n",
      " 22  War                 1682 non-null   int64         \n",
      " 23  Western             1682 non-null   int64         \n",
      " 24  release_year        1681 non-null   float64       \n",
      "dtypes: datetime64[ns](1), float64(2), int64(20), object(2)\n",
      "memory usage: 328.6+ KB\n",
      "None\n"
     ]
    },
    {
     "data": {
      "text/html": [
       "<div>\n",
       "<style scoped>\n",
       "    .dataframe tbody tr th:only-of-type {\n",
       "        vertical-align: middle;\n",
       "    }\n",
       "\n",
       "    .dataframe tbody tr th {\n",
       "        vertical-align: top;\n",
       "    }\n",
       "\n",
       "    .dataframe thead th {\n",
       "        text-align: right;\n",
       "    }\n",
       "</style>\n",
       "<table border=\"1\" class=\"dataframe\">\n",
       "  <thead>\n",
       "    <tr style=\"text-align: right;\">\n",
       "      <th></th>\n",
       "      <th>movie_id</th>\n",
       "      <th>movie_title</th>\n",
       "      <th>release_date</th>\n",
       "      <th>video_release_date</th>\n",
       "      <th>IMDb_URL</th>\n",
       "      <th>unknown</th>\n",
       "      <th>Action</th>\n",
       "      <th>Adventure</th>\n",
       "      <th>Animation</th>\n",
       "      <th>Children's</th>\n",
       "      <th>...</th>\n",
       "      <th>Film-Noir</th>\n",
       "      <th>Horror</th>\n",
       "      <th>Musical</th>\n",
       "      <th>Mystery</th>\n",
       "      <th>Romance</th>\n",
       "      <th>Sci-Fi</th>\n",
       "      <th>Thriller</th>\n",
       "      <th>War</th>\n",
       "      <th>Western</th>\n",
       "      <th>release_year</th>\n",
       "    </tr>\n",
       "  </thead>\n",
       "  <tbody>\n",
       "    <tr>\n",
       "      <th>0</th>\n",
       "      <td>1</td>\n",
       "      <td>Toy Story (1995)</td>\n",
       "      <td>1995-01-01</td>\n",
       "      <td>NaN</td>\n",
       "      <td>http://us.imdb.com/M/title-exact?Toy%20Story%2...</td>\n",
       "      <td>0</td>\n",
       "      <td>0</td>\n",
       "      <td>0</td>\n",
       "      <td>1</td>\n",
       "      <td>1</td>\n",
       "      <td>...</td>\n",
       "      <td>0</td>\n",
       "      <td>0</td>\n",
       "      <td>0</td>\n",
       "      <td>0</td>\n",
       "      <td>0</td>\n",
       "      <td>0</td>\n",
       "      <td>0</td>\n",
       "      <td>0</td>\n",
       "      <td>0</td>\n",
       "      <td>1995.0</td>\n",
       "    </tr>\n",
       "    <tr>\n",
       "      <th>1</th>\n",
       "      <td>2</td>\n",
       "      <td>GoldenEye (1995)</td>\n",
       "      <td>1995-01-01</td>\n",
       "      <td>NaN</td>\n",
       "      <td>http://us.imdb.com/M/title-exact?GoldenEye%20(...</td>\n",
       "      <td>0</td>\n",
       "      <td>1</td>\n",
       "      <td>1</td>\n",
       "      <td>0</td>\n",
       "      <td>0</td>\n",
       "      <td>...</td>\n",
       "      <td>0</td>\n",
       "      <td>0</td>\n",
       "      <td>0</td>\n",
       "      <td>0</td>\n",
       "      <td>0</td>\n",
       "      <td>0</td>\n",
       "      <td>1</td>\n",
       "      <td>0</td>\n",
       "      <td>0</td>\n",
       "      <td>1995.0</td>\n",
       "    </tr>\n",
       "    <tr>\n",
       "      <th>2</th>\n",
       "      <td>3</td>\n",
       "      <td>Four Rooms (1995)</td>\n",
       "      <td>1995-01-01</td>\n",
       "      <td>NaN</td>\n",
       "      <td>http://us.imdb.com/M/title-exact?Four%20Rooms%...</td>\n",
       "      <td>0</td>\n",
       "      <td>0</td>\n",
       "      <td>0</td>\n",
       "      <td>0</td>\n",
       "      <td>0</td>\n",
       "      <td>...</td>\n",
       "      <td>0</td>\n",
       "      <td>0</td>\n",
       "      <td>0</td>\n",
       "      <td>0</td>\n",
       "      <td>0</td>\n",
       "      <td>0</td>\n",
       "      <td>1</td>\n",
       "      <td>0</td>\n",
       "      <td>0</td>\n",
       "      <td>1995.0</td>\n",
       "    </tr>\n",
       "    <tr>\n",
       "      <th>3</th>\n",
       "      <td>4</td>\n",
       "      <td>Get Shorty (1995)</td>\n",
       "      <td>1995-01-01</td>\n",
       "      <td>NaN</td>\n",
       "      <td>http://us.imdb.com/M/title-exact?Get%20Shorty%...</td>\n",
       "      <td>0</td>\n",
       "      <td>1</td>\n",
       "      <td>0</td>\n",
       "      <td>0</td>\n",
       "      <td>0</td>\n",
       "      <td>...</td>\n",
       "      <td>0</td>\n",
       "      <td>0</td>\n",
       "      <td>0</td>\n",
       "      <td>0</td>\n",
       "      <td>0</td>\n",
       "      <td>0</td>\n",
       "      <td>0</td>\n",
       "      <td>0</td>\n",
       "      <td>0</td>\n",
       "      <td>1995.0</td>\n",
       "    </tr>\n",
       "    <tr>\n",
       "      <th>4</th>\n",
       "      <td>5</td>\n",
       "      <td>Copycat (1995)</td>\n",
       "      <td>1995-01-01</td>\n",
       "      <td>NaN</td>\n",
       "      <td>http://us.imdb.com/M/title-exact?Copycat%20(1995)</td>\n",
       "      <td>0</td>\n",
       "      <td>0</td>\n",
       "      <td>0</td>\n",
       "      <td>0</td>\n",
       "      <td>0</td>\n",
       "      <td>...</td>\n",
       "      <td>0</td>\n",
       "      <td>0</td>\n",
       "      <td>0</td>\n",
       "      <td>0</td>\n",
       "      <td>0</td>\n",
       "      <td>0</td>\n",
       "      <td>1</td>\n",
       "      <td>0</td>\n",
       "      <td>0</td>\n",
       "      <td>1995.0</td>\n",
       "    </tr>\n",
       "    <tr>\n",
       "      <th>...</th>\n",
       "      <td>...</td>\n",
       "      <td>...</td>\n",
       "      <td>...</td>\n",
       "      <td>...</td>\n",
       "      <td>...</td>\n",
       "      <td>...</td>\n",
       "      <td>...</td>\n",
       "      <td>...</td>\n",
       "      <td>...</td>\n",
       "      <td>...</td>\n",
       "      <td>...</td>\n",
       "      <td>...</td>\n",
       "      <td>...</td>\n",
       "      <td>...</td>\n",
       "      <td>...</td>\n",
       "      <td>...</td>\n",
       "      <td>...</td>\n",
       "      <td>...</td>\n",
       "      <td>...</td>\n",
       "      <td>...</td>\n",
       "      <td>...</td>\n",
       "    </tr>\n",
       "    <tr>\n",
       "      <th>1677</th>\n",
       "      <td>1678</td>\n",
       "      <td>Mat' i syn (1997)</td>\n",
       "      <td>1998-02-06</td>\n",
       "      <td>NaN</td>\n",
       "      <td>http://us.imdb.com/M/title-exact?Mat%27+i+syn+...</td>\n",
       "      <td>0</td>\n",
       "      <td>0</td>\n",
       "      <td>0</td>\n",
       "      <td>0</td>\n",
       "      <td>0</td>\n",
       "      <td>...</td>\n",
       "      <td>0</td>\n",
       "      <td>0</td>\n",
       "      <td>0</td>\n",
       "      <td>0</td>\n",
       "      <td>0</td>\n",
       "      <td>0</td>\n",
       "      <td>0</td>\n",
       "      <td>0</td>\n",
       "      <td>0</td>\n",
       "      <td>1998.0</td>\n",
       "    </tr>\n",
       "    <tr>\n",
       "      <th>1678</th>\n",
       "      <td>1679</td>\n",
       "      <td>B. Monkey (1998)</td>\n",
       "      <td>1998-02-06</td>\n",
       "      <td>NaN</td>\n",
       "      <td>http://us.imdb.com/M/title-exact?B%2E+Monkey+(...</td>\n",
       "      <td>0</td>\n",
       "      <td>0</td>\n",
       "      <td>0</td>\n",
       "      <td>0</td>\n",
       "      <td>0</td>\n",
       "      <td>...</td>\n",
       "      <td>0</td>\n",
       "      <td>0</td>\n",
       "      <td>0</td>\n",
       "      <td>0</td>\n",
       "      <td>1</td>\n",
       "      <td>0</td>\n",
       "      <td>1</td>\n",
       "      <td>0</td>\n",
       "      <td>0</td>\n",
       "      <td>1998.0</td>\n",
       "    </tr>\n",
       "    <tr>\n",
       "      <th>1679</th>\n",
       "      <td>1680</td>\n",
       "      <td>Sliding Doors (1998)</td>\n",
       "      <td>1998-01-01</td>\n",
       "      <td>NaN</td>\n",
       "      <td>http://us.imdb.com/Title?Sliding+Doors+(1998)</td>\n",
       "      <td>0</td>\n",
       "      <td>0</td>\n",
       "      <td>0</td>\n",
       "      <td>0</td>\n",
       "      <td>0</td>\n",
       "      <td>...</td>\n",
       "      <td>0</td>\n",
       "      <td>0</td>\n",
       "      <td>0</td>\n",
       "      <td>0</td>\n",
       "      <td>1</td>\n",
       "      <td>0</td>\n",
       "      <td>0</td>\n",
       "      <td>0</td>\n",
       "      <td>0</td>\n",
       "      <td>1998.0</td>\n",
       "    </tr>\n",
       "    <tr>\n",
       "      <th>1680</th>\n",
       "      <td>1681</td>\n",
       "      <td>You So Crazy (1994)</td>\n",
       "      <td>1994-01-01</td>\n",
       "      <td>NaN</td>\n",
       "      <td>http://us.imdb.com/M/title-exact?You%20So%20Cr...</td>\n",
       "      <td>0</td>\n",
       "      <td>0</td>\n",
       "      <td>0</td>\n",
       "      <td>0</td>\n",
       "      <td>0</td>\n",
       "      <td>...</td>\n",
       "      <td>0</td>\n",
       "      <td>0</td>\n",
       "      <td>0</td>\n",
       "      <td>0</td>\n",
       "      <td>0</td>\n",
       "      <td>0</td>\n",
       "      <td>0</td>\n",
       "      <td>0</td>\n",
       "      <td>0</td>\n",
       "      <td>1994.0</td>\n",
       "    </tr>\n",
       "    <tr>\n",
       "      <th>1681</th>\n",
       "      <td>1682</td>\n",
       "      <td>Scream of Stone (Schrei aus Stein) (1991)</td>\n",
       "      <td>1996-03-08</td>\n",
       "      <td>NaN</td>\n",
       "      <td>http://us.imdb.com/M/title-exact?Schrei%20aus%...</td>\n",
       "      <td>0</td>\n",
       "      <td>0</td>\n",
       "      <td>0</td>\n",
       "      <td>0</td>\n",
       "      <td>0</td>\n",
       "      <td>...</td>\n",
       "      <td>0</td>\n",
       "      <td>0</td>\n",
       "      <td>0</td>\n",
       "      <td>0</td>\n",
       "      <td>0</td>\n",
       "      <td>0</td>\n",
       "      <td>0</td>\n",
       "      <td>0</td>\n",
       "      <td>0</td>\n",
       "      <td>1996.0</td>\n",
       "    </tr>\n",
       "  </tbody>\n",
       "</table>\n",
       "<p>1682 rows × 25 columns</p>\n",
       "</div>"
      ],
      "text/plain": [
       "      movie_id                                movie_title release_date  \\\n",
       "0            1                           Toy Story (1995)   1995-01-01   \n",
       "1            2                           GoldenEye (1995)   1995-01-01   \n",
       "2            3                          Four Rooms (1995)   1995-01-01   \n",
       "3            4                          Get Shorty (1995)   1995-01-01   \n",
       "4            5                             Copycat (1995)   1995-01-01   \n",
       "...        ...                                        ...          ...   \n",
       "1677      1678                          Mat' i syn (1997)   1998-02-06   \n",
       "1678      1679                           B. Monkey (1998)   1998-02-06   \n",
       "1679      1680                       Sliding Doors (1998)   1998-01-01   \n",
       "1680      1681                        You So Crazy (1994)   1994-01-01   \n",
       "1681      1682  Scream of Stone (Schrei aus Stein) (1991)   1996-03-08   \n",
       "\n",
       "      video_release_date                                           IMDb_URL  \\\n",
       "0                    NaN  http://us.imdb.com/M/title-exact?Toy%20Story%2...   \n",
       "1                    NaN  http://us.imdb.com/M/title-exact?GoldenEye%20(...   \n",
       "2                    NaN  http://us.imdb.com/M/title-exact?Four%20Rooms%...   \n",
       "3                    NaN  http://us.imdb.com/M/title-exact?Get%20Shorty%...   \n",
       "4                    NaN  http://us.imdb.com/M/title-exact?Copycat%20(1995)   \n",
       "...                  ...                                                ...   \n",
       "1677                 NaN  http://us.imdb.com/M/title-exact?Mat%27+i+syn+...   \n",
       "1678                 NaN  http://us.imdb.com/M/title-exact?B%2E+Monkey+(...   \n",
       "1679                 NaN      http://us.imdb.com/Title?Sliding+Doors+(1998)   \n",
       "1680                 NaN  http://us.imdb.com/M/title-exact?You%20So%20Cr...   \n",
       "1681                 NaN  http://us.imdb.com/M/title-exact?Schrei%20aus%...   \n",
       "\n",
       "      unknown  Action  Adventure  Animation  Children's  ...  Film-Noir  \\\n",
       "0           0       0          0          1           1  ...          0   \n",
       "1           0       1          1          0           0  ...          0   \n",
       "2           0       0          0          0           0  ...          0   \n",
       "3           0       1          0          0           0  ...          0   \n",
       "4           0       0          0          0           0  ...          0   \n",
       "...       ...     ...        ...        ...         ...  ...        ...   \n",
       "1677        0       0          0          0           0  ...          0   \n",
       "1678        0       0          0          0           0  ...          0   \n",
       "1679        0       0          0          0           0  ...          0   \n",
       "1680        0       0          0          0           0  ...          0   \n",
       "1681        0       0          0          0           0  ...          0   \n",
       "\n",
       "      Horror  Musical  Mystery  Romance  Sci-Fi  Thriller  War  Western  \\\n",
       "0          0        0        0        0       0         0    0        0   \n",
       "1          0        0        0        0       0         1    0        0   \n",
       "2          0        0        0        0       0         1    0        0   \n",
       "3          0        0        0        0       0         0    0        0   \n",
       "4          0        0        0        0       0         1    0        0   \n",
       "...      ...      ...      ...      ...     ...       ...  ...      ...   \n",
       "1677       0        0        0        0       0         0    0        0   \n",
       "1678       0        0        0        1       0         1    0        0   \n",
       "1679       0        0        0        1       0         0    0        0   \n",
       "1680       0        0        0        0       0         0    0        0   \n",
       "1681       0        0        0        0       0         0    0        0   \n",
       "\n",
       "      release_year  \n",
       "0           1995.0  \n",
       "1           1995.0  \n",
       "2           1995.0  \n",
       "3           1995.0  \n",
       "4           1995.0  \n",
       "...            ...  \n",
       "1677        1998.0  \n",
       "1678        1998.0  \n",
       "1679        1998.0  \n",
       "1680        1994.0  \n",
       "1681        1996.0  \n",
       "\n",
       "[1682 rows x 25 columns]"
      ]
     },
     "execution_count": 6,
     "metadata": {},
     "output_type": "execute_result"
    }
   ],
   "source": [
    "print(u_item.info())\n",
    "u_item"
   ]
  },
  {
   "cell_type": "code",
   "execution_count": 7,
   "metadata": {
    "colab": {
     "base_uri": "https://localhost:8080/"
    },
    "id": "sS5KG_ZbLQhf",
    "outputId": "71b6b397-576d-4877-a4b5-6bda4be805b3"
   },
   "outputs": [
    {
     "data": {
      "text/plain": [
       "{'unknown': 0,\n",
       " 'Action': 1,\n",
       " 'Adventure': 2,\n",
       " 'Animation': 3,\n",
       " \"Children's\": 4,\n",
       " 'Comedy': 5,\n",
       " 'Crime': 6,\n",
       " 'Documentary': 7,\n",
       " 'Drama': 8,\n",
       " 'Fantasy': 9,\n",
       " 'Film-Noir': 10,\n",
       " 'Horror': 11,\n",
       " 'Musical': 12,\n",
       " 'Mystery': 13,\n",
       " 'Romance': 14,\n",
       " 'Sci-Fi': 15,\n",
       " 'Thriller': 16,\n",
       " 'War': 17,\n",
       " 'Western': 18}"
      ]
     },
     "execution_count": 7,
     "metadata": {},
     "output_type": "execute_result"
    }
   ],
   "source": [
    "gen2idx"
   ]
  },
  {
   "cell_type": "code",
   "execution_count": 8,
   "metadata": {
    "colab": {
     "base_uri": "https://localhost:8080/",
     "height": 642
    },
    "id": "fBOLUu9BLSZV",
    "outputId": "9a473ef6-41b0-4b24-e193-5a096a739991"
   },
   "outputs": [
    {
     "name": "stdout",
     "output_type": "stream",
     "text": [
      "<class 'pandas.core.frame.DataFrame'>\n",
      "RangeIndex: 943 entries, 0 to 942\n",
      "Data columns (total 6 columns):\n",
      " #   Column      Non-Null Count  Dtype \n",
      "---  ------      --------------  ----- \n",
      " 0   user_id     943 non-null    int64 \n",
      " 1   age         943 non-null    int64 \n",
      " 2   gender      943 non-null    object\n",
      " 3   occupation  943 non-null    object\n",
      " 4   zip_code    943 non-null    object\n",
      " 5   state       943 non-null    object\n",
      "dtypes: int64(2), object(4)\n",
      "memory usage: 44.3+ KB\n",
      "None\n"
     ]
    },
    {
     "data": {
      "text/html": [
       "<div>\n",
       "<style scoped>\n",
       "    .dataframe tbody tr th:only-of-type {\n",
       "        vertical-align: middle;\n",
       "    }\n",
       "\n",
       "    .dataframe tbody tr th {\n",
       "        vertical-align: top;\n",
       "    }\n",
       "\n",
       "    .dataframe thead th {\n",
       "        text-align: right;\n",
       "    }\n",
       "</style>\n",
       "<table border=\"1\" class=\"dataframe\">\n",
       "  <thead>\n",
       "    <tr style=\"text-align: right;\">\n",
       "      <th></th>\n",
       "      <th>user_id</th>\n",
       "      <th>age</th>\n",
       "      <th>gender</th>\n",
       "      <th>occupation</th>\n",
       "      <th>zip_code</th>\n",
       "      <th>state</th>\n",
       "    </tr>\n",
       "  </thead>\n",
       "  <tbody>\n",
       "    <tr>\n",
       "      <th>0</th>\n",
       "      <td>1</td>\n",
       "      <td>24</td>\n",
       "      <td>M</td>\n",
       "      <td>technician</td>\n",
       "      <td>85711</td>\n",
       "      <td>AZ</td>\n",
       "    </tr>\n",
       "    <tr>\n",
       "      <th>1</th>\n",
       "      <td>2</td>\n",
       "      <td>53</td>\n",
       "      <td>F</td>\n",
       "      <td>other</td>\n",
       "      <td>94043</td>\n",
       "      <td>CA</td>\n",
       "    </tr>\n",
       "    <tr>\n",
       "      <th>2</th>\n",
       "      <td>3</td>\n",
       "      <td>23</td>\n",
       "      <td>M</td>\n",
       "      <td>writer</td>\n",
       "      <td>32067</td>\n",
       "      <td>FL</td>\n",
       "    </tr>\n",
       "    <tr>\n",
       "      <th>3</th>\n",
       "      <td>4</td>\n",
       "      <td>24</td>\n",
       "      <td>M</td>\n",
       "      <td>technician</td>\n",
       "      <td>43537</td>\n",
       "      <td>OH</td>\n",
       "    </tr>\n",
       "    <tr>\n",
       "      <th>4</th>\n",
       "      <td>5</td>\n",
       "      <td>33</td>\n",
       "      <td>F</td>\n",
       "      <td>other</td>\n",
       "      <td>15213</td>\n",
       "      <td>PA</td>\n",
       "    </tr>\n",
       "    <tr>\n",
       "      <th>...</th>\n",
       "      <td>...</td>\n",
       "      <td>...</td>\n",
       "      <td>...</td>\n",
       "      <td>...</td>\n",
       "      <td>...</td>\n",
       "      <td>...</td>\n",
       "    </tr>\n",
       "    <tr>\n",
       "      <th>938</th>\n",
       "      <td>939</td>\n",
       "      <td>26</td>\n",
       "      <td>F</td>\n",
       "      <td>student</td>\n",
       "      <td>33319</td>\n",
       "      <td>FL</td>\n",
       "    </tr>\n",
       "    <tr>\n",
       "      <th>939</th>\n",
       "      <td>940</td>\n",
       "      <td>32</td>\n",
       "      <td>M</td>\n",
       "      <td>administrator</td>\n",
       "      <td>02215</td>\n",
       "      <td>MA</td>\n",
       "    </tr>\n",
       "    <tr>\n",
       "      <th>940</th>\n",
       "      <td>941</td>\n",
       "      <td>20</td>\n",
       "      <td>M</td>\n",
       "      <td>student</td>\n",
       "      <td>97229</td>\n",
       "      <td>OR</td>\n",
       "    </tr>\n",
       "    <tr>\n",
       "      <th>941</th>\n",
       "      <td>942</td>\n",
       "      <td>48</td>\n",
       "      <td>F</td>\n",
       "      <td>librarian</td>\n",
       "      <td>78209</td>\n",
       "      <td>TX</td>\n",
       "    </tr>\n",
       "    <tr>\n",
       "      <th>942</th>\n",
       "      <td>943</td>\n",
       "      <td>22</td>\n",
       "      <td>M</td>\n",
       "      <td>student</td>\n",
       "      <td>77841</td>\n",
       "      <td>TX</td>\n",
       "    </tr>\n",
       "  </tbody>\n",
       "</table>\n",
       "<p>943 rows × 6 columns</p>\n",
       "</div>"
      ],
      "text/plain": [
       "     user_id  age gender     occupation zip_code state\n",
       "0          1   24      M     technician    85711    AZ\n",
       "1          2   53      F          other    94043    CA\n",
       "2          3   23      M         writer    32067    FL\n",
       "3          4   24      M     technician    43537    OH\n",
       "4          5   33      F          other    15213    PA\n",
       "..       ...  ...    ...            ...      ...   ...\n",
       "938      939   26      F        student    33319    FL\n",
       "939      940   32      M  administrator    02215    MA\n",
       "940      941   20      M        student    97229    OR\n",
       "941      942   48      F      librarian    78209    TX\n",
       "942      943   22      M        student    77841    TX\n",
       "\n",
       "[943 rows x 6 columns]"
      ]
     },
     "execution_count": 8,
     "metadata": {},
     "output_type": "execute_result"
    }
   ],
   "source": [
    "print(u_user.info())\n",
    "u_user"
   ]
  },
  {
   "cell_type": "code",
   "execution_count": 9,
   "metadata": {
    "colab": {
     "base_uri": "https://localhost:8080/"
    },
    "id": "HMx8IZ3iLU1i",
    "outputId": "b3cd1d53-0c77-4222-e713-d8f1117d907e"
   },
   "outputs": [
    {
     "data": {
      "text/plain": [
       "{'administrator',\n",
       " 'artist',\n",
       " 'doctor',\n",
       " 'educator',\n",
       " 'engineer',\n",
       " 'entertainment',\n",
       " 'executive',\n",
       " 'healthcare',\n",
       " 'homemaker',\n",
       " 'lawyer',\n",
       " 'librarian',\n",
       " 'marketing',\n",
       " 'none',\n",
       " 'other',\n",
       " 'programmer',\n",
       " 'retired',\n",
       " 'salesman',\n",
       " 'scientist',\n",
       " 'student',\n",
       " 'technician',\n",
       " 'writer'}"
      ]
     },
     "execution_count": 9,
     "metadata": {},
     "output_type": "execute_result"
    }
   ],
   "source": [
    "occups"
   ]
  },
  {
   "cell_type": "code",
   "execution_count": 10,
   "metadata": {
    "colab": {
     "base_uri": "https://localhost:8080/",
     "height": 625
    },
    "id": "v2DwvTNSLWpu",
    "outputId": "60e98a4b-9961-4dbf-841c-31ad6500799f"
   },
   "outputs": [
    {
     "name": "stdout",
     "output_type": "stream",
     "text": [
      "u_n_bases number: 5\n",
      "<class 'pandas.core.frame.DataFrame'>\n",
      "RangeIndex: 80000 entries, 0 to 79999\n",
      "Data columns (total 4 columns):\n",
      " #   Column     Non-Null Count  Dtype\n",
      "---  ------     --------------  -----\n",
      " 0   user_id    80000 non-null  int64\n",
      " 1   item_id    80000 non-null  int64\n",
      " 2   rating     80000 non-null  int64\n",
      " 3   timestamp  80000 non-null  int64\n",
      "dtypes: int64(4)\n",
      "memory usage: 2.4 MB\n",
      "None\n"
     ]
    },
    {
     "data": {
      "text/html": [
       "<div>\n",
       "<style scoped>\n",
       "    .dataframe tbody tr th:only-of-type {\n",
       "        vertical-align: middle;\n",
       "    }\n",
       "\n",
       "    .dataframe tbody tr th {\n",
       "        vertical-align: top;\n",
       "    }\n",
       "\n",
       "    .dataframe thead th {\n",
       "        text-align: right;\n",
       "    }\n",
       "</style>\n",
       "<table border=\"1\" class=\"dataframe\">\n",
       "  <thead>\n",
       "    <tr style=\"text-align: right;\">\n",
       "      <th></th>\n",
       "      <th>user_id</th>\n",
       "      <th>item_id</th>\n",
       "      <th>rating</th>\n",
       "      <th>timestamp</th>\n",
       "    </tr>\n",
       "  </thead>\n",
       "  <tbody>\n",
       "    <tr>\n",
       "      <th>0</th>\n",
       "      <td>1</td>\n",
       "      <td>1</td>\n",
       "      <td>5</td>\n",
       "      <td>874965758</td>\n",
       "    </tr>\n",
       "    <tr>\n",
       "      <th>1</th>\n",
       "      <td>1</td>\n",
       "      <td>2</td>\n",
       "      <td>3</td>\n",
       "      <td>876893171</td>\n",
       "    </tr>\n",
       "    <tr>\n",
       "      <th>2</th>\n",
       "      <td>1</td>\n",
       "      <td>4</td>\n",
       "      <td>3</td>\n",
       "      <td>876893119</td>\n",
       "    </tr>\n",
       "    <tr>\n",
       "      <th>3</th>\n",
       "      <td>1</td>\n",
       "      <td>5</td>\n",
       "      <td>3</td>\n",
       "      <td>889751712</td>\n",
       "    </tr>\n",
       "    <tr>\n",
       "      <th>4</th>\n",
       "      <td>1</td>\n",
       "      <td>6</td>\n",
       "      <td>5</td>\n",
       "      <td>887431973</td>\n",
       "    </tr>\n",
       "    <tr>\n",
       "      <th>...</th>\n",
       "      <td>...</td>\n",
       "      <td>...</td>\n",
       "      <td>...</td>\n",
       "      <td>...</td>\n",
       "    </tr>\n",
       "    <tr>\n",
       "      <th>79995</th>\n",
       "      <td>943</td>\n",
       "      <td>943</td>\n",
       "      <td>5</td>\n",
       "      <td>888639614</td>\n",
       "    </tr>\n",
       "    <tr>\n",
       "      <th>79996</th>\n",
       "      <td>943</td>\n",
       "      <td>1011</td>\n",
       "      <td>2</td>\n",
       "      <td>875502560</td>\n",
       "    </tr>\n",
       "    <tr>\n",
       "      <th>79997</th>\n",
       "      <td>943</td>\n",
       "      <td>1067</td>\n",
       "      <td>2</td>\n",
       "      <td>875501756</td>\n",
       "    </tr>\n",
       "    <tr>\n",
       "      <th>79998</th>\n",
       "      <td>943</td>\n",
       "      <td>1074</td>\n",
       "      <td>4</td>\n",
       "      <td>888640250</td>\n",
       "    </tr>\n",
       "    <tr>\n",
       "      <th>79999</th>\n",
       "      <td>943</td>\n",
       "      <td>1188</td>\n",
       "      <td>3</td>\n",
       "      <td>888640250</td>\n",
       "    </tr>\n",
       "  </tbody>\n",
       "</table>\n",
       "<p>80000 rows × 4 columns</p>\n",
       "</div>"
      ],
      "text/plain": [
       "       user_id  item_id  rating  timestamp\n",
       "0            1        1       5  874965758\n",
       "1            1        2       3  876893171\n",
       "2            1        4       3  876893119\n",
       "3            1        5       3  889751712\n",
       "4            1        6       5  887431973\n",
       "...        ...      ...     ...        ...\n",
       "79995      943      943       5  888639614\n",
       "79996      943     1011       2  875502560\n",
       "79997      943     1067       2  875501756\n",
       "79998      943     1074       4  888640250\n",
       "79999      943     1188       3  888640250\n",
       "\n",
       "[80000 rows x 4 columns]"
      ]
     },
     "execution_count": 10,
     "metadata": {},
     "output_type": "execute_result"
    }
   ],
   "source": [
    "print(f\"u_n_bases number: {U_N_NUM}\")\n",
    "print(u_n_bases[U_N_NUM-1].info())\n",
    "u_n_bases[U_N_NUM-1]"
   ]
  },
  {
   "cell_type": "code",
   "execution_count": 11,
   "metadata": {
    "colab": {
     "base_uri": "https://localhost:8080/",
     "height": 625
    },
    "id": "WxRRf9-yLYgu",
    "outputId": "4fd3d04f-4dbc-425a-cc11-6f6acc5a2261"
   },
   "outputs": [
    {
     "name": "stdout",
     "output_type": "stream",
     "text": [
      "u_n_tests number: 5\n",
      "<class 'pandas.core.frame.DataFrame'>\n",
      "RangeIndex: 20000 entries, 0 to 19999\n",
      "Data columns (total 4 columns):\n",
      " #   Column     Non-Null Count  Dtype\n",
      "---  ------     --------------  -----\n",
      " 0   user_id    20000 non-null  int64\n",
      " 1   item_id    20000 non-null  int64\n",
      " 2   rating     20000 non-null  int64\n",
      " 3   timestamp  20000 non-null  int64\n",
      "dtypes: int64(4)\n",
      "memory usage: 625.1 KB\n",
      "None\n"
     ]
    },
    {
     "data": {
      "text/html": [
       "<div>\n",
       "<style scoped>\n",
       "    .dataframe tbody tr th:only-of-type {\n",
       "        vertical-align: middle;\n",
       "    }\n",
       "\n",
       "    .dataframe tbody tr th {\n",
       "        vertical-align: top;\n",
       "    }\n",
       "\n",
       "    .dataframe thead th {\n",
       "        text-align: right;\n",
       "    }\n",
       "</style>\n",
       "<table border=\"1\" class=\"dataframe\">\n",
       "  <thead>\n",
       "    <tr style=\"text-align: right;\">\n",
       "      <th></th>\n",
       "      <th>user_id</th>\n",
       "      <th>item_id</th>\n",
       "      <th>rating</th>\n",
       "      <th>timestamp</th>\n",
       "    </tr>\n",
       "  </thead>\n",
       "  <tbody>\n",
       "    <tr>\n",
       "      <th>0</th>\n",
       "      <td>1</td>\n",
       "      <td>3</td>\n",
       "      <td>4</td>\n",
       "      <td>878542960</td>\n",
       "    </tr>\n",
       "    <tr>\n",
       "      <th>1</th>\n",
       "      <td>1</td>\n",
       "      <td>13</td>\n",
       "      <td>5</td>\n",
       "      <td>875071805</td>\n",
       "    </tr>\n",
       "    <tr>\n",
       "      <th>2</th>\n",
       "      <td>1</td>\n",
       "      <td>15</td>\n",
       "      <td>5</td>\n",
       "      <td>875071608</td>\n",
       "    </tr>\n",
       "    <tr>\n",
       "      <th>3</th>\n",
       "      <td>1</td>\n",
       "      <td>18</td>\n",
       "      <td>4</td>\n",
       "      <td>887432020</td>\n",
       "    </tr>\n",
       "    <tr>\n",
       "      <th>4</th>\n",
       "      <td>1</td>\n",
       "      <td>19</td>\n",
       "      <td>5</td>\n",
       "      <td>875071515</td>\n",
       "    </tr>\n",
       "    <tr>\n",
       "      <th>...</th>\n",
       "      <td>...</td>\n",
       "      <td>...</td>\n",
       "      <td>...</td>\n",
       "      <td>...</td>\n",
       "    </tr>\n",
       "    <tr>\n",
       "      <th>19995</th>\n",
       "      <td>943</td>\n",
       "      <td>1028</td>\n",
       "      <td>2</td>\n",
       "      <td>875502096</td>\n",
       "    </tr>\n",
       "    <tr>\n",
       "      <th>19996</th>\n",
       "      <td>943</td>\n",
       "      <td>1044</td>\n",
       "      <td>3</td>\n",
       "      <td>888639903</td>\n",
       "    </tr>\n",
       "    <tr>\n",
       "      <th>19997</th>\n",
       "      <td>943</td>\n",
       "      <td>1047</td>\n",
       "      <td>2</td>\n",
       "      <td>875502146</td>\n",
       "    </tr>\n",
       "    <tr>\n",
       "      <th>19998</th>\n",
       "      <td>943</td>\n",
       "      <td>1228</td>\n",
       "      <td>3</td>\n",
       "      <td>888640275</td>\n",
       "    </tr>\n",
       "    <tr>\n",
       "      <th>19999</th>\n",
       "      <td>943</td>\n",
       "      <td>1330</td>\n",
       "      <td>3</td>\n",
       "      <td>888692465</td>\n",
       "    </tr>\n",
       "  </tbody>\n",
       "</table>\n",
       "<p>20000 rows × 4 columns</p>\n",
       "</div>"
      ],
      "text/plain": [
       "       user_id  item_id  rating  timestamp\n",
       "0            1        3       4  878542960\n",
       "1            1       13       5  875071805\n",
       "2            1       15       5  875071608\n",
       "3            1       18       4  887432020\n",
       "4            1       19       5  875071515\n",
       "...        ...      ...     ...        ...\n",
       "19995      943     1028       2  875502096\n",
       "19996      943     1044       3  888639903\n",
       "19997      943     1047       2  875502146\n",
       "19998      943     1228       3  888640275\n",
       "19999      943     1330       3  888692465\n",
       "\n",
       "[20000 rows x 4 columns]"
      ]
     },
     "execution_count": 11,
     "metadata": {},
     "output_type": "execute_result"
    }
   ],
   "source": [
    "print(f\"u_n_tests number: {U_N_NUM}\")\n",
    "print(u_n_tests[U_N_NUM-1].info())\n",
    "u_n_tests[U_N_NUM-1]"
   ]
  },
  {
   "cell_type": "markdown",
   "metadata": {
    "id": "oBUo0r0Ai8MA"
   },
   "source": [
    "#### Data Exploration\n",
    "\n",
    "Here I explore statistics of the data and analyse distributions"
   ]
  },
  {
   "cell_type": "markdown",
   "metadata": {
    "id": "ON0jGxbwekLI"
   },
   "source": [
    "##### U Data"
   ]
  },
  {
   "cell_type": "code",
   "execution_count": 12,
   "metadata": {
    "colab": {
     "base_uri": "https://localhost:8080/",
     "height": 291
    },
    "id": "I78KOuDsNtse",
    "outputId": "65455f8b-518c-4542-c214-4a1278c5865d"
   },
   "outputs": [
    {
     "data": {
      "text/html": [
       "<div>\n",
       "<style scoped>\n",
       "    .dataframe tbody tr th:only-of-type {\n",
       "        vertical-align: middle;\n",
       "    }\n",
       "\n",
       "    .dataframe tbody tr th {\n",
       "        vertical-align: top;\n",
       "    }\n",
       "\n",
       "    .dataframe thead th {\n",
       "        text-align: right;\n",
       "    }\n",
       "</style>\n",
       "<table border=\"1\" class=\"dataframe\">\n",
       "  <thead>\n",
       "    <tr style=\"text-align: right;\">\n",
       "      <th></th>\n",
       "      <th>user_id</th>\n",
       "      <th>item_id</th>\n",
       "      <th>rating</th>\n",
       "      <th>timestamp</th>\n",
       "    </tr>\n",
       "  </thead>\n",
       "  <tbody>\n",
       "    <tr>\n",
       "      <th>count</th>\n",
       "      <td>100000.00000</td>\n",
       "      <td>100000.000000</td>\n",
       "      <td>100000.000000</td>\n",
       "      <td>1.000000e+05</td>\n",
       "    </tr>\n",
       "    <tr>\n",
       "      <th>mean</th>\n",
       "      <td>462.48475</td>\n",
       "      <td>425.530130</td>\n",
       "      <td>3.529860</td>\n",
       "      <td>8.835289e+08</td>\n",
       "    </tr>\n",
       "    <tr>\n",
       "      <th>std</th>\n",
       "      <td>266.61442</td>\n",
       "      <td>330.798356</td>\n",
       "      <td>1.125674</td>\n",
       "      <td>5.343856e+06</td>\n",
       "    </tr>\n",
       "    <tr>\n",
       "      <th>min</th>\n",
       "      <td>1.00000</td>\n",
       "      <td>1.000000</td>\n",
       "      <td>1.000000</td>\n",
       "      <td>8.747247e+08</td>\n",
       "    </tr>\n",
       "    <tr>\n",
       "      <th>25%</th>\n",
       "      <td>254.00000</td>\n",
       "      <td>175.000000</td>\n",
       "      <td>3.000000</td>\n",
       "      <td>8.794487e+08</td>\n",
       "    </tr>\n",
       "    <tr>\n",
       "      <th>50%</th>\n",
       "      <td>447.00000</td>\n",
       "      <td>322.000000</td>\n",
       "      <td>4.000000</td>\n",
       "      <td>8.828269e+08</td>\n",
       "    </tr>\n",
       "    <tr>\n",
       "      <th>75%</th>\n",
       "      <td>682.00000</td>\n",
       "      <td>631.000000</td>\n",
       "      <td>4.000000</td>\n",
       "      <td>8.882600e+08</td>\n",
       "    </tr>\n",
       "    <tr>\n",
       "      <th>max</th>\n",
       "      <td>943.00000</td>\n",
       "      <td>1682.000000</td>\n",
       "      <td>5.000000</td>\n",
       "      <td>8.932866e+08</td>\n",
       "    </tr>\n",
       "  </tbody>\n",
       "</table>\n",
       "</div>"
      ],
      "text/plain": [
       "            user_id        item_id         rating     timestamp\n",
       "count  100000.00000  100000.000000  100000.000000  1.000000e+05\n",
       "mean      462.48475     425.530130       3.529860  8.835289e+08\n",
       "std       266.61442     330.798356       1.125674  5.343856e+06\n",
       "min         1.00000       1.000000       1.000000  8.747247e+08\n",
       "25%       254.00000     175.000000       3.000000  8.794487e+08\n",
       "50%       447.00000     322.000000       4.000000  8.828269e+08\n",
       "75%       682.00000     631.000000       4.000000  8.882600e+08\n",
       "max       943.00000    1682.000000       5.000000  8.932866e+08"
      ]
     },
     "execution_count": 12,
     "metadata": {},
     "output_type": "execute_result"
    }
   ],
   "source": [
    "u_data.describe()"
   ]
  },
  {
   "cell_type": "code",
   "execution_count": 13,
   "metadata": {
    "colab": {
     "base_uri": "https://localhost:8080/",
     "height": 734
    },
    "id": "xps5JBUuPZE9",
    "outputId": "beb16942-ea79-4c03-a503-fbe359cf85b5"
   },
   "outputs": [
    {
     "data": {
      "image/png": "[encoded data removed]",
      "text/plain": [
       "<Figure size 720x576 with 4 Axes>"
      ]
     },
     "metadata": {
      "needs_background": "light"
     },
     "output_type": "display_data"
    }
   ],
   "source": [
    "fig, axes = plt.subplots(nrows=2, ncols=2, figsize=(10, 8))\n",
    "u_data[USER_ID].value_counts().plot(kind=\"bar\", ax=axes[0][0])\n",
    "axes[0][0].tick_params(axis=\"x\", which=\"both\", bottom=False, top=False,\n",
    "                       labelbottom=False)\n",
    "axes[0][0].title.set_text(\"Counts of reviewed movies w.r.t. users\")\n",
    "axes[0][0].set_ylabel(\"Reviewed movies count\")\n",
    "axes[0][0].set_xlabel(\"User\")\n",
    "u_data[ITEM_ID].value_counts().plot(kind=\"bar\", ax=axes[0][1])\n",
    "axes[0][1].tick_params(axis=\"x\", which=\"both\", bottom=False, top=False,\n",
    "                       labelbottom=False)\n",
    "axes[0][1].title.set_text(\"Counts of users reviewed w.r.t. movies\")\n",
    "axes[0][1].set_ylabel(\"Users reviewed count\")\n",
    "axes[0][1].set_xlabel(\"Movie\")\n",
    "u_data[RATING].value_counts().sort_index().plot(kind=\"bar\", ax=axes[1][0])\n",
    "axes[1][0].title.set_text(\"Distribution of rating counts\")\n",
    "axes[1][0].set_ylabel(\"Rating count\")\n",
    "axes[1][0].set_xlabel(\"Rating\")\n",
    "axes[1][1].hist(u_data[TS])\n",
    "axes[1][1].title.set_text(\"Review count w.r.t. timestamp\")\n",
    "axes[1][1].set_ylabel(\"Review count\")\n",
    "axes[1][1].set_xlabel(\"Timestamp\")\n",
    "fig.savefig(U_DATA_VIS_PATH)"
   ]
  },
  {
   "cell_type": "markdown",
   "metadata": {
    "id": "QpBZ2isCyVV0"
   },
   "source": [
    "The count of reviewed movies per user vary, peaking in 550 of movies and dropping till 30.\n",
    "\n",
    "The distribution is similar for counts of users reviewed per movie, peaking 550 users per movie and dropping till 1 review.\n",
    "\n",
    "The most common ratings are 4, 3, and 5. 5 is given as triple more times as 1.\n",
    "\n",
    "The time of the reviews has almost uniform distribution with some drop and peaks at 20% of periods."
   ]
  },
  {
   "cell_type": "markdown",
   "metadata": {
    "id": "cBOZU3omju0b"
   },
   "source": [
    "##### U Item\n",
    "\n"
   ]
  },
  {
   "cell_type": "code",
   "execution_count": 14,
   "metadata": {
    "colab": {
     "base_uri": "https://localhost:8080/",
     "height": 341
    },
    "id": "DIQ3cx5MNtsk",
    "outputId": "9f3e88da-66af-4d4a-ee17-7177d7d4c589"
   },
   "outputs": [
    {
     "data": {
      "text/html": [
       "<div>\n",
       "<style scoped>\n",
       "    .dataframe tbody tr th:only-of-type {\n",
       "        vertical-align: middle;\n",
       "    }\n",
       "\n",
       "    .dataframe tbody tr th {\n",
       "        vertical-align: top;\n",
       "    }\n",
       "\n",
       "    .dataframe thead th {\n",
       "        text-align: right;\n",
       "    }\n",
       "</style>\n",
       "<table border=\"1\" class=\"dataframe\">\n",
       "  <thead>\n",
       "    <tr style=\"text-align: right;\">\n",
       "      <th></th>\n",
       "      <th>movie_id</th>\n",
       "      <th>video_release_date</th>\n",
       "      <th>unknown</th>\n",
       "      <th>Action</th>\n",
       "      <th>Adventure</th>\n",
       "      <th>Animation</th>\n",
       "      <th>Children's</th>\n",
       "      <th>Comedy</th>\n",
       "      <th>Crime</th>\n",
       "      <th>Documentary</th>\n",
       "      <th>...</th>\n",
       "      <th>Film-Noir</th>\n",
       "      <th>Horror</th>\n",
       "      <th>Musical</th>\n",
       "      <th>Mystery</th>\n",
       "      <th>Romance</th>\n",
       "      <th>Sci-Fi</th>\n",
       "      <th>Thriller</th>\n",
       "      <th>War</th>\n",
       "      <th>Western</th>\n",
       "      <th>release_year</th>\n",
       "    </tr>\n",
       "  </thead>\n",
       "  <tbody>\n",
       "    <tr>\n",
       "      <th>count</th>\n",
       "      <td>1682.000000</td>\n",
       "      <td>0.0</td>\n",
       "      <td>1682.000000</td>\n",
       "      <td>1682.000000</td>\n",
       "      <td>1682.000000</td>\n",
       "      <td>1682.000000</td>\n",
       "      <td>1682.000000</td>\n",
       "      <td>1682.000000</td>\n",
       "      <td>1682.000000</td>\n",
       "      <td>1682.000000</td>\n",
       "      <td>...</td>\n",
       "      <td>1682.000000</td>\n",
       "      <td>1682.000000</td>\n",
       "      <td>1682.000000</td>\n",
       "      <td>1682.000000</td>\n",
       "      <td>1682.000000</td>\n",
       "      <td>1682.000000</td>\n",
       "      <td>1682.000000</td>\n",
       "      <td>1682.000000</td>\n",
       "      <td>1682.000000</td>\n",
       "      <td>1681.00000</td>\n",
       "    </tr>\n",
       "    <tr>\n",
       "      <th>mean</th>\n",
       "      <td>841.500000</td>\n",
       "      <td>NaN</td>\n",
       "      <td>0.001189</td>\n",
       "      <td>0.149227</td>\n",
       "      <td>0.080262</td>\n",
       "      <td>0.024970</td>\n",
       "      <td>0.072533</td>\n",
       "      <td>0.300238</td>\n",
       "      <td>0.064804</td>\n",
       "      <td>0.029727</td>\n",
       "      <td>...</td>\n",
       "      <td>0.014269</td>\n",
       "      <td>0.054697</td>\n",
       "      <td>0.033294</td>\n",
       "      <td>0.036266</td>\n",
       "      <td>0.146849</td>\n",
       "      <td>0.060048</td>\n",
       "      <td>0.149227</td>\n",
       "      <td>0.042212</td>\n",
       "      <td>0.016052</td>\n",
       "      <td>1989.38608</td>\n",
       "    </tr>\n",
       "    <tr>\n",
       "      <th>std</th>\n",
       "      <td>485.695893</td>\n",
       "      <td>NaN</td>\n",
       "      <td>0.034473</td>\n",
       "      <td>0.356418</td>\n",
       "      <td>0.271779</td>\n",
       "      <td>0.156081</td>\n",
       "      <td>0.259445</td>\n",
       "      <td>0.458498</td>\n",
       "      <td>0.246253</td>\n",
       "      <td>0.169882</td>\n",
       "      <td>...</td>\n",
       "      <td>0.118632</td>\n",
       "      <td>0.227455</td>\n",
       "      <td>0.179456</td>\n",
       "      <td>0.187008</td>\n",
       "      <td>0.354061</td>\n",
       "      <td>0.237646</td>\n",
       "      <td>0.356418</td>\n",
       "      <td>0.201131</td>\n",
       "      <td>0.125714</td>\n",
       "      <td>14.25358</td>\n",
       "    </tr>\n",
       "    <tr>\n",
       "      <th>min</th>\n",
       "      <td>1.000000</td>\n",
       "      <td>NaN</td>\n",
       "      <td>0.000000</td>\n",
       "      <td>0.000000</td>\n",
       "      <td>0.000000</td>\n",
       "      <td>0.000000</td>\n",
       "      <td>0.000000</td>\n",
       "      <td>0.000000</td>\n",
       "      <td>0.000000</td>\n",
       "      <td>0.000000</td>\n",
       "      <td>...</td>\n",
       "      <td>0.000000</td>\n",
       "      <td>0.000000</td>\n",
       "      <td>0.000000</td>\n",
       "      <td>0.000000</td>\n",
       "      <td>0.000000</td>\n",
       "      <td>0.000000</td>\n",
       "      <td>0.000000</td>\n",
       "      <td>0.000000</td>\n",
       "      <td>0.000000</td>\n",
       "      <td>1922.00000</td>\n",
       "    </tr>\n",
       "    <tr>\n",
       "      <th>25%</th>\n",
       "      <td>421.250000</td>\n",
       "      <td>NaN</td>\n",
       "      <td>0.000000</td>\n",
       "      <td>0.000000</td>\n",
       "      <td>0.000000</td>\n",
       "      <td>0.000000</td>\n",
       "      <td>0.000000</td>\n",
       "      <td>0.000000</td>\n",
       "      <td>0.000000</td>\n",
       "      <td>0.000000</td>\n",
       "      <td>...</td>\n",
       "      <td>0.000000</td>\n",
       "      <td>0.000000</td>\n",
       "      <td>0.000000</td>\n",
       "      <td>0.000000</td>\n",
       "      <td>0.000000</td>\n",
       "      <td>0.000000</td>\n",
       "      <td>0.000000</td>\n",
       "      <td>0.000000</td>\n",
       "      <td>0.000000</td>\n",
       "      <td>1993.00000</td>\n",
       "    </tr>\n",
       "    <tr>\n",
       "      <th>50%</th>\n",
       "      <td>841.500000</td>\n",
       "      <td>NaN</td>\n",
       "      <td>0.000000</td>\n",
       "      <td>0.000000</td>\n",
       "      <td>0.000000</td>\n",
       "      <td>0.000000</td>\n",
       "      <td>0.000000</td>\n",
       "      <td>0.000000</td>\n",
       "      <td>0.000000</td>\n",
       "      <td>0.000000</td>\n",
       "      <td>...</td>\n",
       "      <td>0.000000</td>\n",
       "      <td>0.000000</td>\n",
       "      <td>0.000000</td>\n",
       "      <td>0.000000</td>\n",
       "      <td>0.000000</td>\n",
       "      <td>0.000000</td>\n",
       "      <td>0.000000</td>\n",
       "      <td>0.000000</td>\n",
       "      <td>0.000000</td>\n",
       "      <td>1995.00000</td>\n",
       "    </tr>\n",
       "    <tr>\n",
       "      <th>75%</th>\n",
       "      <td>1261.750000</td>\n",
       "      <td>NaN</td>\n",
       "      <td>0.000000</td>\n",
       "      <td>0.000000</td>\n",
       "      <td>0.000000</td>\n",
       "      <td>0.000000</td>\n",
       "      <td>0.000000</td>\n",
       "      <td>1.000000</td>\n",
       "      <td>0.000000</td>\n",
       "      <td>0.000000</td>\n",
       "      <td>...</td>\n",
       "      <td>0.000000</td>\n",
       "      <td>0.000000</td>\n",
       "      <td>0.000000</td>\n",
       "      <td>0.000000</td>\n",
       "      <td>0.000000</td>\n",
       "      <td>0.000000</td>\n",
       "      <td>0.000000</td>\n",
       "      <td>0.000000</td>\n",
       "      <td>0.000000</td>\n",
       "      <td>1996.00000</td>\n",
       "    </tr>\n",
       "    <tr>\n",
       "      <th>max</th>\n",
       "      <td>1682.000000</td>\n",
       "      <td>NaN</td>\n",
       "      <td>1.000000</td>\n",
       "      <td>1.000000</td>\n",
       "      <td>1.000000</td>\n",
       "      <td>1.000000</td>\n",
       "      <td>1.000000</td>\n",
       "      <td>1.000000</td>\n",
       "      <td>1.000000</td>\n",
       "      <td>1.000000</td>\n",
       "      <td>...</td>\n",
       "      <td>1.000000</td>\n",
       "      <td>1.000000</td>\n",
       "      <td>1.000000</td>\n",
       "      <td>1.000000</td>\n",
       "      <td>1.000000</td>\n",
       "      <td>1.000000</td>\n",
       "      <td>1.000000</td>\n",
       "      <td>1.000000</td>\n",
       "      <td>1.000000</td>\n",
       "      <td>1998.00000</td>\n",
       "    </tr>\n",
       "  </tbody>\n",
       "</table>\n",
       "<p>8 rows × 22 columns</p>\n",
       "</div>"
      ],
      "text/plain": [
       "          movie_id  video_release_date      unknown       Action    Adventure  \\\n",
       "count  1682.000000                 0.0  1682.000000  1682.000000  1682.000000   \n",
       "mean    841.500000                 NaN     0.001189     0.149227     0.080262   \n",
       "std     485.695893                 NaN     0.034473     0.356418     0.271779   \n",
       "min       1.000000                 NaN     0.000000     0.000000     0.000000   \n",
       "25%     421.250000                 NaN     0.000000     0.000000     0.000000   \n",
       "50%     841.500000                 NaN     0.000000     0.000000     0.000000   \n",
       "75%    1261.750000                 NaN     0.000000     0.000000     0.000000   \n",
       "max    1682.000000                 NaN     1.000000     1.000000     1.000000   \n",
       "\n",
       "         Animation   Children's       Comedy        Crime  Documentary  ...  \\\n",
       "count  1682.000000  1682.000000  1682.000000  1682.000000  1682.000000  ...   \n",
       "mean      0.024970     0.072533     0.300238     0.064804     0.029727  ...   \n",
       "std       0.156081     0.259445     0.458498     0.246253     0.169882  ...   \n",
       "min       0.000000     0.000000     0.000000     0.000000     0.000000  ...   \n",
       "25%       0.000000     0.000000     0.000000     0.000000     0.000000  ...   \n",
       "50%       0.000000     0.000000     0.000000     0.000000     0.000000  ...   \n",
       "75%       0.000000     0.000000     1.000000     0.000000     0.000000  ...   \n",
       "max       1.000000     1.000000     1.000000     1.000000     1.000000  ...   \n",
       "\n",
       "         Film-Noir       Horror      Musical      Mystery      Romance  \\\n",
       "count  1682.000000  1682.000000  1682.000000  1682.000000  1682.000000   \n",
       "mean      0.014269     0.054697     0.033294     0.036266     0.146849   \n",
       "std       0.118632     0.227455     0.179456     0.187008     0.354061   \n",
       "min       0.000000     0.000000     0.000000     0.000000     0.000000   \n",
       "25%       0.000000     0.000000     0.000000     0.000000     0.000000   \n",
       "50%       0.000000     0.000000     0.000000     0.000000     0.000000   \n",
       "75%       0.000000     0.000000     0.000000     0.000000     0.000000   \n",
       "max       1.000000     1.000000     1.000000     1.000000     1.000000   \n",
       "\n",
       "            Sci-Fi     Thriller          War      Western  release_year  \n",
       "count  1682.000000  1682.000000  1682.000000  1682.000000    1681.00000  \n",
       "mean      0.060048     0.149227     0.042212     0.016052    1989.38608  \n",
       "std       0.237646     0.356418     0.201131     0.125714      14.25358  \n",
       "min       0.000000     0.000000     0.000000     0.000000    1922.00000  \n",
       "25%       0.000000     0.000000     0.000000     0.000000    1993.00000  \n",
       "50%       0.000000     0.000000     0.000000     0.000000    1995.00000  \n",
       "75%       0.000000     0.000000     0.000000     0.000000    1996.00000  \n",
       "max       1.000000     1.000000     1.000000     1.000000    1998.00000  \n",
       "\n",
       "[8 rows x 22 columns]"
      ]
     },
     "execution_count": 14,
     "metadata": {},
     "output_type": "execute_result"
    }
   ],
   "source": [
    "u_item.describe()"
   ]
  },
  {
   "cell_type": "code",
   "execution_count": 15,
   "metadata": {
    "colab": {
     "base_uri": "https://localhost:8080/",
     "height": 780
    },
    "id": "q6wTDcNUgs3I",
    "outputId": "b69dd20c-4b5b-4e8b-ab1e-2b0b69edc867"
   },
   "outputs": [
    {
     "data": {
      "image/png": "[encoded data removed]",
      "text/plain": [
       "<Figure size 576x576 with 2 Axes>"
      ]
     },
     "metadata": {
      "needs_background": "light"
     },
     "output_type": "display_data"
    }
   ],
   "source": [
    "# reference: [2]\n",
    "fig, axes = plt.subplots(nrows=2, ncols=1, figsize=(8, 8))\n",
    "rd_vc = u_item[REL_DATE].dt.year.value_counts().sort_index()\n",
    "axes[0].plot(rd_vc.index, rd_vc.values)\n",
    "axes[0].title.set_text(\"Counts of released movies per year\")\n",
    "axes[0].set_ylabel(\"Counts of released movies\")\n",
    "axes[0].set_xlabel(\"Years\")\n",
    "gen_vc = u_item[gen2idx.keys()].sum().sort_values(ascending=False)\n",
    "axes[1].bar(gen_vc.index, gen_vc.values)\n",
    "axes[1].title.set_text(\"Counts of genres of movies\")\n",
    "axes[1].set_ylabel(\"Movies count\")\n",
    "axes[1].set_xlabel(\"Genre\")\n",
    "axes[1].tick_params(\"x\", labelrotation=45)\n",
    "fig.savefig(U_ITEM_VIS_PATH)"
   ]
  },
  {
   "cell_type": "markdown",
   "metadata": {
    "id": "tMY64_-YxjQu"
   },
   "source": [
    "The data is biased towards:\n",
    "- movies of 1990-2000 as opposite to \\<1990 and not present for \\>2000\n",
    "- movies of genre drama and comedy as opposite for Film-Noir and Fantasy"
   ]
  },
  {
   "cell_type": "code",
   "execution_count": 16,
   "metadata": {
    "colab": {
     "base_uri": "https://localhost:8080/",
     "height": 783
    },
    "id": "D7RL4nZUuJT-",
    "outputId": "895d6d59-67c5-4a2c-8f81-e6e586297c22"
   },
   "outputs": [
    {
     "data": {
      "image/png": "[encoded data removed]",
      "text/plain": [
       "<Figure size 1008x576 with 2 Axes>"
      ]
     },
     "metadata": {
      "needs_background": "light"
     },
     "output_type": "display_data"
    }
   ],
   "source": [
    "# reference: [3]\n",
    "plt.figure(figsize=(14,8))\n",
    "sns.heatmap(u_item.groupby(REL_YEAR).sum()[gen2idx.keys()].T, cmap=\"YlGnBu\")\n",
    "plt.savefig(GEN_YEAR_U_ITEM_VIS_PATH)"
   ]
  },
  {
   "cell_type": "markdown",
   "metadata": {
    "id": "VH9l55oPx_rj"
   },
   "source": [
    "The distribution of movies among genres persist throughout time. The only parameter that change - number of released movies in general."
   ]
  },
  {
   "cell_type": "markdown",
   "metadata": {
    "id": "DjSqQMSkqg_x"
   },
   "source": [
    "##### U User"
   ]
  },
  {
   "cell_type": "code",
   "execution_count": 17,
   "metadata": {
    "colab": {
     "base_uri": "https://localhost:8080/",
     "height": 291
    },
    "id": "6oJ_UqasqoPo",
    "outputId": "eb716a97-a7a3-4350-a9c4-1a7edcc7f78a"
   },
   "outputs": [
    {
     "data": {
      "text/html": [
       "<div>\n",
       "<style scoped>\n",
       "    .dataframe tbody tr th:only-of-type {\n",
       "        vertical-align: middle;\n",
       "    }\n",
       "\n",
       "    .dataframe tbody tr th {\n",
       "        vertical-align: top;\n",
       "    }\n",
       "\n",
       "    .dataframe thead th {\n",
       "        text-align: right;\n",
       "    }\n",
       "</style>\n",
       "<table border=\"1\" class=\"dataframe\">\n",
       "  <thead>\n",
       "    <tr style=\"text-align: right;\">\n",
       "      <th></th>\n",
       "      <th>user_id</th>\n",
       "      <th>age</th>\n",
       "    </tr>\n",
       "  </thead>\n",
       "  <tbody>\n",
       "    <tr>\n",
       "      <th>count</th>\n",
       "      <td>943.000000</td>\n",
       "      <td>943.000000</td>\n",
       "    </tr>\n",
       "    <tr>\n",
       "      <th>mean</th>\n",
       "      <td>472.000000</td>\n",
       "      <td>34.051962</td>\n",
       "    </tr>\n",
       "    <tr>\n",
       "      <th>std</th>\n",
       "      <td>272.364951</td>\n",
       "      <td>12.192740</td>\n",
       "    </tr>\n",
       "    <tr>\n",
       "      <th>min</th>\n",
       "      <td>1.000000</td>\n",
       "      <td>7.000000</td>\n",
       "    </tr>\n",
       "    <tr>\n",
       "      <th>25%</th>\n",
       "      <td>236.500000</td>\n",
       "      <td>25.000000</td>\n",
       "    </tr>\n",
       "    <tr>\n",
       "      <th>50%</th>\n",
       "      <td>472.000000</td>\n",
       "      <td>31.000000</td>\n",
       "    </tr>\n",
       "    <tr>\n",
       "      <th>75%</th>\n",
       "      <td>707.500000</td>\n",
       "      <td>43.000000</td>\n",
       "    </tr>\n",
       "    <tr>\n",
       "      <th>max</th>\n",
       "      <td>943.000000</td>\n",
       "      <td>73.000000</td>\n",
       "    </tr>\n",
       "  </tbody>\n",
       "</table>\n",
       "</div>"
      ],
      "text/plain": [
       "          user_id         age\n",
       "count  943.000000  943.000000\n",
       "mean   472.000000   34.051962\n",
       "std    272.364951   12.192740\n",
       "min      1.000000    7.000000\n",
       "25%    236.500000   25.000000\n",
       "50%    472.000000   31.000000\n",
       "75%    707.500000   43.000000\n",
       "max    943.000000   73.000000"
      ]
     },
     "execution_count": 17,
     "metadata": {},
     "output_type": "execute_result"
    }
   ],
   "source": [
    "u_user.describe()"
   ]
  },
  {
   "cell_type": "code",
   "execution_count": 18,
   "metadata": {
    "colab": {
     "base_uri": "https://localhost:8080/",
     "height": 820
    },
    "id": "ZjWOTfVWqrRJ",
    "outputId": "81fe6026-e427-40a3-b2b5-75a38247430f"
   },
   "outputs": [
    {
     "data": {
      "image/png": "[encoded data removed]",
      "text/plain": [
       "<Figure size 1152x576 with 4 Axes>"
      ]
     },
     "metadata": {
      "needs_background": "light"
     },
     "output_type": "display_data"
    }
   ],
   "source": [
    "# reference: [2]\n",
    "fig, axes = plt.subplots(nrows=2, ncols=2, figsize=(16, 8))\n",
    "age_vc = u_user[AGE].value_counts().sort_index()\n",
    "axes[0][0].plot(age_vc.index, age_vc.values)\n",
    "axes[0][0].title.set_text(\"Count of users w.r.t. age\")\n",
    "axes[0][0].set_ylabel(\"Count of users\")\n",
    "axes[0][0].set_xlabel(\"Age\")\n",
    "u_user[GENDER].value_counts().plot(kind=\"bar\", ax=axes[0][1])\n",
    "axes[0][1].title.set_text(\"Count of users w.r.t. gender\")\n",
    "axes[0][1].set_ylabel(\"Count of users\")\n",
    "axes[0][1].set_xlabel(\"Gender\")\n",
    "u_user[OCCUPTN].value_counts().plot(kind=\"bar\", ax=axes[1][0])\n",
    "axes[1][0].title.set_text(\"Count of users w.r.t. occupation\")\n",
    "axes[1][0].set_ylabel(\"Count of users\")\n",
    "axes[1][0].set_xlabel(\"Occupation\")\n",
    "u_user[STATE].value_counts().plot(kind=\"bar\", ax=axes[1][1])\n",
    "axes[1][1].title.set_text(\"Count of users w.r.t. state\")\n",
    "axes[1][1].set_ylabel(\"Count of users\")\n",
    "axes[1][1].set_xlabel(\"State\")\n",
    "fig.savefig(U_USER_VIS_PATH)"
   ]
  },
  {
   "cell_type": "markdown",
   "metadata": {
    "id": "eNBC73hAw2xe"
   },
   "source": [
    "The data is biased towards:\n",
    "- people in age of 20-30 as opposite to \\<20 and \\>50\n",
    "- males as opposite to females;\n",
    "- students as opposite to doctors\n",
    "- users from CA state as opposite to AE state"
   ]
  },
  {
   "cell_type": "markdown",
   "metadata": {
    "id": "XGsA60PBkUe5"
   },
   "source": [
    "#### Data Quality Verifiaction\n",
    "\n",
    "Check for nulls and duplicate rows."
   ]
  },
  {
   "cell_type": "markdown",
   "metadata": {
    "id": "c7bJ6lEQ1JN0"
   },
   "source": [
    "##### U Data"
   ]
  },
  {
   "cell_type": "code",
   "execution_count": 19,
   "metadata": {
    "colab": {
     "base_uri": "https://localhost:8080/"
    },
    "id": "iBGpEjRNkTjm",
    "outputId": "50e365c1-8e99-4c17-df1b-eee225d7fb68"
   },
   "outputs": [
    {
     "data": {
      "text/plain": [
       "user_id      0.0\n",
       "item_id      0.0\n",
       "rating       0.0\n",
       "timestamp    0.0\n",
       "dtype: float64"
      ]
     },
     "execution_count": 19,
     "metadata": {},
     "output_type": "execute_result"
    }
   ],
   "source": [
    "u_data.isnull().sum() * 100 / len(u_data)"
   ]
  },
  {
   "cell_type": "code",
   "execution_count": 20,
   "metadata": {
    "colab": {
     "base_uri": "https://localhost:8080/",
     "height": 52
    },
    "id": "8N6slMmm1f8X",
    "outputId": "894a6172-d736-4403-a1f7-1edc31f578fc"
   },
   "outputs": [
    {
     "data": {
      "text/html": [
       "<div>\n",
       "<style scoped>\n",
       "    .dataframe tbody tr th:only-of-type {\n",
       "        vertical-align: middle;\n",
       "    }\n",
       "\n",
       "    .dataframe tbody tr th {\n",
       "        vertical-align: top;\n",
       "    }\n",
       "\n",
       "    .dataframe thead th {\n",
       "        text-align: right;\n",
       "    }\n",
       "</style>\n",
       "<table border=\"1\" class=\"dataframe\">\n",
       "  <thead>\n",
       "    <tr style=\"text-align: right;\">\n",
       "      <th></th>\n",
       "      <th>user_id</th>\n",
       "      <th>item_id</th>\n",
       "      <th>rating</th>\n",
       "      <th>timestamp</th>\n",
       "    </tr>\n",
       "  </thead>\n",
       "  <tbody>\n",
       "  </tbody>\n",
       "</table>\n",
       "</div>"
      ],
      "text/plain": [
       "Empty DataFrame\n",
       "Columns: [user_id, item_id, rating, timestamp]\n",
       "Index: []"
      ]
     },
     "execution_count": 20,
     "metadata": {},
     "output_type": "execute_result"
    }
   ],
   "source": [
    "u_data[u_data.duplicated(keep=False)]"
   ]
  },
  {
   "cell_type": "markdown",
   "metadata": {
    "id": "zoExnZa20waS"
   },
   "source": [
    "U data has no problems with empty data"
   ]
  },
  {
   "cell_type": "markdown",
   "metadata": {
    "id": "IaFGvIY71Lf8"
   },
   "source": [
    "##### U Item"
   ]
  },
  {
   "cell_type": "code",
   "execution_count": 21,
   "metadata": {
    "colab": {
     "base_uri": "https://localhost:8080/"
    },
    "id": "gcM1ZUK21L9j",
    "outputId": "791b2a77-f290-44c8-d0c3-f8ef6c8b1e3a"
   },
   "outputs": [
    {
     "data": {
      "text/plain": [
       "movie_id                0.000000\n",
       "movie_title             0.000000\n",
       "release_date            0.059453\n",
       "video_release_date    100.000000\n",
       "IMDb_URL                0.178359\n",
       "unknown                 0.000000\n",
       "Action                  0.000000\n",
       "Adventure               0.000000\n",
       "Animation               0.000000\n",
       "Children's              0.000000\n",
       "Comedy                  0.000000\n",
       "Crime                   0.000000\n",
       "Documentary             0.000000\n",
       "Drama                   0.000000\n",
       "Fantasy                 0.000000\n",
       "Film-Noir               0.000000\n",
       "Horror                  0.000000\n",
       "Musical                 0.000000\n",
       "Mystery                 0.000000\n",
       "Romance                 0.000000\n",
       "Sci-Fi                  0.000000\n",
       "Thriller                0.000000\n",
       "War                     0.000000\n",
       "Western                 0.000000\n",
       "release_year            0.059453\n",
       "dtype: float64"
      ]
     },
     "execution_count": 21,
     "metadata": {},
     "output_type": "execute_result"
    }
   ],
   "source": [
    "u_item.isnull().sum() * 100 / len(u_item)"
   ]
  },
  {
   "cell_type": "code",
   "execution_count": 22,
   "metadata": {
    "colab": {
     "base_uri": "https://localhost:8080/",
     "height": 112
    },
    "id": "76-P-Xyq1gkV",
    "outputId": "f7e9d08b-b39e-4c77-a6e4-97e06be75684"
   },
   "outputs": [
    {
     "data": {
      "text/html": [
       "<div>\n",
       "<style scoped>\n",
       "    .dataframe tbody tr th:only-of-type {\n",
       "        vertical-align: middle;\n",
       "    }\n",
       "\n",
       "    .dataframe tbody tr th {\n",
       "        vertical-align: top;\n",
       "    }\n",
       "\n",
       "    .dataframe thead th {\n",
       "        text-align: right;\n",
       "    }\n",
       "</style>\n",
       "<table border=\"1\" class=\"dataframe\">\n",
       "  <thead>\n",
       "    <tr style=\"text-align: right;\">\n",
       "      <th></th>\n",
       "      <th>movie_id</th>\n",
       "      <th>movie_title</th>\n",
       "      <th>release_date</th>\n",
       "      <th>video_release_date</th>\n",
       "      <th>IMDb_URL</th>\n",
       "      <th>unknown</th>\n",
       "      <th>Action</th>\n",
       "      <th>Adventure</th>\n",
       "      <th>Animation</th>\n",
       "      <th>Children's</th>\n",
       "      <th>...</th>\n",
       "      <th>Film-Noir</th>\n",
       "      <th>Horror</th>\n",
       "      <th>Musical</th>\n",
       "      <th>Mystery</th>\n",
       "      <th>Romance</th>\n",
       "      <th>Sci-Fi</th>\n",
       "      <th>Thriller</th>\n",
       "      <th>War</th>\n",
       "      <th>Western</th>\n",
       "      <th>release_year</th>\n",
       "    </tr>\n",
       "  </thead>\n",
       "  <tbody>\n",
       "  </tbody>\n",
       "</table>\n",
       "<p>0 rows × 25 columns</p>\n",
       "</div>"
      ],
      "text/plain": [
       "Empty DataFrame\n",
       "Columns: [movie_id, movie_title, release_date, video_release_date, IMDb_URL, unknown, Action, Adventure, Animation, Children's, Comedy, Crime, Documentary, Drama, Fantasy, Film-Noir, Horror, Musical, Mystery, Romance, Sci-Fi, Thriller, War, Western, release_year]\n",
       "Index: []\n",
       "\n",
       "[0 rows x 25 columns]"
      ]
     },
     "execution_count": 22,
     "metadata": {},
     "output_type": "execute_result"
    }
   ],
   "source": [
    "u_item[u_item.duplicated(keep=False)]"
   ]
  },
  {
   "cell_type": "markdown",
   "metadata": {
    "id": "wDwiloop030D"
   },
   "source": [
    "U Item require removal of video_release_data column with all empty cells. Release date and release_year columns require reconstructing its few empty cell or removal of the corresponding rows. IMDb_URL has missing values, however reconstruction of the data is impossible from the given data. U Item has no duplicate rows"
   ]
  },
  {
   "cell_type": "markdown",
   "metadata": {
    "id": "OA_WNt6B1MNJ"
   },
   "source": [
    "##### U User"
   ]
  },
  {
   "cell_type": "code",
   "execution_count": 23,
   "metadata": {
    "colab": {
     "base_uri": "https://localhost:8080/"
    },
    "id": "tH2OdeqX1Mk1",
    "outputId": "3707d77c-402a-4eac-98fd-c8b04cb28e46"
   },
   "outputs": [
    {
     "data": {
      "text/plain": [
       "user_id       0.0\n",
       "age           0.0\n",
       "gender        0.0\n",
       "occupation    0.0\n",
       "zip_code      0.0\n",
       "state         0.0\n",
       "dtype: float64"
      ]
     },
     "execution_count": 23,
     "metadata": {},
     "output_type": "execute_result"
    }
   ],
   "source": [
    "u_user.isnull().sum() * 100 / len(u_user)"
   ]
  },
  {
   "cell_type": "code",
   "execution_count": 24,
   "metadata": {
    "colab": {
     "base_uri": "https://localhost:8080/",
     "height": 52
    },
    "id": "n1paTQWO1hRx",
    "outputId": "e21260a0-d478-4690-d6d5-beff8a403dd6"
   },
   "outputs": [
    {
     "data": {
      "text/html": [
       "<div>\n",
       "<style scoped>\n",
       "    .dataframe tbody tr th:only-of-type {\n",
       "        vertical-align: middle;\n",
       "    }\n",
       "\n",
       "    .dataframe tbody tr th {\n",
       "        vertical-align: top;\n",
       "    }\n",
       "\n",
       "    .dataframe thead th {\n",
       "        text-align: right;\n",
       "    }\n",
       "</style>\n",
       "<table border=\"1\" class=\"dataframe\">\n",
       "  <thead>\n",
       "    <tr style=\"text-align: right;\">\n",
       "      <th></th>\n",
       "      <th>user_id</th>\n",
       "      <th>age</th>\n",
       "      <th>gender</th>\n",
       "      <th>occupation</th>\n",
       "      <th>zip_code</th>\n",
       "      <th>state</th>\n",
       "    </tr>\n",
       "  </thead>\n",
       "  <tbody>\n",
       "  </tbody>\n",
       "</table>\n",
       "</div>"
      ],
      "text/plain": [
       "Empty DataFrame\n",
       "Columns: [user_id, age, gender, occupation, zip_code, state]\n",
       "Index: []"
      ]
     },
     "execution_count": 24,
     "metadata": {},
     "output_type": "execute_result"
    }
   ],
   "source": [
    "u_user[u_user.duplicated(keep=False)]"
   ]
  },
  {
   "cell_type": "markdown",
   "metadata": {
    "id": "D4fOqivG019C"
   },
   "source": [
    "U User has no problems with empty data"
   ]
  },
  {
   "cell_type": "markdown",
   "metadata": {
    "id": "EkHxHUnxkXH3"
   },
   "source": [
    "### Data Preparation\n",
    "\n",
    "Here I select the columns needed for the model and handle missing data"
   ]
  },
  {
   "cell_type": "markdown",
   "metadata": {
    "id": "EucldopJlR1Y"
   },
   "source": [
    "#### Data Selection"
   ]
  },
  {
   "cell_type": "markdown",
   "metadata": {
    "id": "RYNOfJrnpBC1"
   },
   "source": [
    "##### U Data\n",
    "\n",
    "I remove the timestamp column from U Data as matrix factorization model that I use later do not take into account time data."
   ]
  },
  {
   "cell_type": "code",
   "execution_count": 25,
   "metadata": {
    "id": "vAuuEdlrpTLy"
   },
   "outputs": [],
   "source": [
    "u_data = u_data.drop(columns=[TS])"
   ]
  },
  {
   "cell_type": "markdown",
   "metadata": {
    "id": "wlttgYHkpTjo"
   },
   "source": [
    "##### U Item\n",
    "\n",
    "Among columns of U Item only genre columns seems apropriate feature for such small amount of data. I remove the rest feature columns according to the following reasoning. The release date and year columns looks noisy as the data is biased towards releases of shord time frame of 1990-1997. IMDb url is not understandable for the models. Video release date is empty. Movie titles are too abstract for the model, so it is unlikely that the meaning of the words in it relate to user rating."
   ]
  },
  {
   "cell_type": "code",
   "execution_count": 26,
   "metadata": {
    "id": "iBfJBnjNmhWd"
   },
   "outputs": [],
   "source": [
    "u_item = u_item.drop(columns=[MOV_TITLE, REL_DATE, VID_REL_DATE, IMDB_URL, REL_YEAR])"
   ]
  },
  {
   "cell_type": "markdown",
   "metadata": {
    "id": "eW9KZF-hplVT"
   },
   "source": [
    "##### U User\n",
    "\n",
    "I remove the zip code column as I already derived informative data about state. The rest age, gender, occupation, and state columns I preserve as user features."
   ]
  },
  {
   "cell_type": "code",
   "execution_count": 27,
   "metadata": {
    "id": "cjCpn_kbpm5U"
   },
   "outputs": [],
   "source": [
    "u_user = u_user.drop(columns=[ZIP_CODE])"
   ]
  },
  {
   "cell_type": "markdown",
   "metadata": {
    "id": "hf5NWtPJkaut"
   },
   "source": [
    "#### Data Cleaning\n",
    "\n",
    "The data that I selected has no missing or dublicated data, so no data cleaning is needed"
   ]
  },
  {
   "cell_type": "markdown",
   "metadata": {
    "id": "xItWpAWrlc7m"
   },
   "source": [
    "#### Data Construction\n",
    "\n",
    "I divide age to different groups as people of different ages has different behavior"
   ]
  },
  {
   "cell_type": "code",
   "execution_count": 28,
   "metadata": {
    "id": "smzs2hMEmsL4"
   },
   "outputs": [],
   "source": [
    "u_user[AGE_CAT] = pd.cut(u_user[AGE], bins=AGE_BINS, labels=AGE_LABELS,\n",
    "                         include_lowest=True)\n",
    "u_user = u_user.drop(columns=[AGE])"
   ]
  },
  {
   "cell_type": "markdown",
   "metadata": {
    "id": "-wBYKYpOkjJf"
   },
   "source": [
    "#### Data Formatting\n",
    "\n",
    "Here I perform one-hot encoding on gender, age group, occupation, and state columns to make the features interpretable for the model"
   ]
  },
  {
   "cell_type": "code",
   "execution_count": 29,
   "metadata": {
    "id": "7qfHxDAUan8i"
   },
   "outputs": [],
   "source": [
    "u_user = pd.get_dummies(u_user, columns=[GENDER, AGE_CAT, OCCUPTN, STATE])"
   ]
  },
  {
   "cell_type": "markdown",
   "metadata": {
    "id": "zGgxLrEsr_0A"
   },
   "source": [
    "### Save Preprocessed Data\n",
    "\n",
    "Save preprocessed data, item, and user tables to data/interim"
   ]
  },
  {
   "cell_type": "code",
   "execution_count": 30,
   "metadata": {
    "id": "IeEyRvZQu5kI"
   },
   "outputs": [],
   "source": [
    "u_data.to_csv(PREPR_U_DATA_PATH)\n",
    "u_item.to_csv(PREPR_U_ITEM_PATH)\n",
    "u_user.to_csv(PREPR_U_USER_PATH)"
   ]
  },
  {
   "cell_type": "markdown",
   "metadata": {
    "id": "aypwXqA5pL0v"
   },
   "source": [
    "### References\n",
    "\n",
    "```\n",
    "[1] F. Maxwell Harper and Joseph A. Konstan. 2015. The MovieLens Datasets:\n",
    "History and Context. ACM Transactions on Interactive Intelligent\n",
    "Systems (TiiS) 5, 4, Article 19 (December 2015), 19 pages.\n",
    "DOI=http://dx.doi.org/10.1145/2827872\n",
    "\n",
    "[2] https://www.kaggle.com/code/amar09/eda-recommendation-model-on-movielens-100k\n",
    "\n",
    "[3] https://www.kaggle.com/code/trishna8/movielens-100k-exploratory-data-analysis\n",
    "```"
   ]
  }
 ],
 "metadata": {
  "colab": {
   "provenance": []
  },
  "kernelspec": {
   "display_name": "Python 3",
   "language": "python",
   "name": "python3"
  },
  "language_info": {
   "codemirror_mode": {
    "name": "ipython",
    "version": 3
   },
   "file_extension": ".py",
   "mimetype": "text/x-python",
   "name": "python",
   "nbconvert_exporter": "python",
   "pygments_lexer": "ipython3",
   "version": "3.8.5"
  }
 },
 "nbformat": 4,
 "nbformat_minor": 1
}
